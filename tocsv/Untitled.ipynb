{
 "cells": [
  {
   "cell_type": "code",
   "execution_count": 1,
   "id": "3dcde808-06a2-4466-ab93-8b08091095bf",
   "metadata": {},
   "outputs": [
    {
     "name": "stdout",
     "output_type": "stream",
     "text": [
      "Converted emails_from_may23_linked_withemailsid_bywebsite.json to emails_from_may23_linked_withemailsid_bywebsite.csv\n",
      "Converted emails_from_may23_linked_withemailsid_byemail.json to emails_from_may23_linked_withemailsid_byemail.csv\n",
      "Converted emails_from_may23_linked_withemailsid_bygender.json to emails_from_may23_linked_withemailsid_bygender.csv\n",
      "Converted emails_from_may23_linked_withemailsid_byov_subcat.json to emails_from_may23_linked_withemailsid_byov_subcat.csv\n",
      "Converted emails_from_may23_linked_withemailsid_byoverall_cat.json to emails_from_may23_linked_withemailsid_byoverall_cat.csv\n",
      "Converted emails_from_may23_linked_withemailsid_bycountry.json to emails_from_may23_linked_withemailsid_bycountry.csv\n",
      "Converted emails_from_may23_linked_withemailsid_byage.json to emails_from_may23_linked_withemailsid_byage.csv\n",
      "Converted emails_from_may23_linked_withemailsid_byzip.json to emails_from_may23_linked_withemailsid_byzip.csv\n",
      "Converted emails_from_may23_linked_withemailsid_byname.json to emails_from_may23_linked_withemailsid_byname.csv\n"
     ]
    }
   ],
   "source": [
    "import os\n",
    "import json\n",
    "import csv\n",
    "\n",
    "def convert_json_to_csv(folder_path):\n",
    "    for file_name in os.listdir(folder_path):\n",
    "        if file_name.endswith(\".json\"):\n",
    "            json_file_path = os.path.join(folder_path, file_name)\n",
    "            csv_file_name = file_name.replace(\".json\", \".csv\")\n",
    "            csv_file_path = os.path.join(folder_path, csv_file_name)\n",
    "            \n",
    "            with open(json_file_path, \"r\") as json_file:\n",
    "                data = json.load(json_file)\n",
    "                \n",
    "                # Extract the relevant field\n",
    "                if \"name_mean_deviation_nbitems\" in data:\n",
    "                    rows = data[\"name_mean_deviation_nbitems\"]\n",
    "                    \n",
    "                    # Write to CSV\n",
    "                    with open(csv_file_path, \"w\", newline=\"\") as csv_file:\n",
    "                        writer = csv.writer(csv_file)\n",
    "                        writer.writerow([\"Name\", \"Mean\", \"Deviation\", \"Number of Items\"])\n",
    "                        for row in rows:\n",
    "                            if len(row) == 4:\n",
    "                                writer.writerow(row)\n",
    "            print(f\"Converted {file_name} to {csv_file_name}\")\n",
    "\n",
    "# Replace 'your_folder_path_here' with the actual path\n",
    "folder_path = \".\"\n",
    "convert_json_to_csv(folder_path)\n"
   ]
  },
  {
   "cell_type": "code",
   "execution_count": null,
   "id": "2bae88ec-5137-48ec-be13-74593f154d50",
   "metadata": {},
   "outputs": [],
   "source": []
  }
 ],
 "metadata": {
  "kernelspec": {
   "display_name": "Python 3 (ipykernel)",
   "language": "python",
   "name": "python3"
  },
  "language_info": {
   "codemirror_mode": {
    "name": "ipython",
    "version": 3
   },
   "file_extension": ".py",
   "mimetype": "text/x-python",
   "name": "python",
   "nbconvert_exporter": "python",
   "pygments_lexer": "ipython3",
   "version": "3.10.11"
  }
 },
 "nbformat": 4,
 "nbformat_minor": 5
}
