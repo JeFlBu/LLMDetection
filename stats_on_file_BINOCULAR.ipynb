{
 "cells": [
  {
   "cell_type": "code",
   "execution_count": 22,
   "id": "52e2ac1e-9e8c-471e-bc47-7d2f91ad5b79",
   "metadata": {},
   "outputs": [],
   "source": [
    "import pandas as pd\n",
    "import matplotlib.pyplot as plt\n",
    "import json\n",
    "import numpy as np\n",
    "import math"
   ]
  },
  {
   "cell_type": "code",
   "execution_count": 29,
   "id": "7f242990-ad0e-4b98-9f65-490d0104bebf",
   "metadata": {},
   "outputs": [
    {
     "name": "stdout",
     "output_type": "stream",
     "text": [
      "1500\n",
      "1500\n",
      "1500\n",
      "1500\n",
      "3000\n",
      "3000\n"
     ]
    },
    {
     "name": "stderr",
     "output_type": "stream",
     "text": [
      "/tmp/ipykernel_3165874/891171701.py:100: DeprecationWarning: DataFrameGroupBy.apply operated on the grouping columns. This behavior is deprecated, and in a future version of pandas the grouping columns will be excluded from the operation. Either pass `include_groups=False` to exclude the groupings or explicitly select the grouping columns after groupby to silence this warning.\n",
      "  df_above_threshold = df.groupby('year_month').apply(lambda x: (x['score'] > threshold).mean() * 100).reset_index(name='percentage_above_threshold')\n",
      "/tmp/ipykernel_3165874/891171701.py:100: DeprecationWarning: DataFrameGroupBy.apply operated on the grouping columns. This behavior is deprecated, and in a future version of pandas the grouping columns will be excluded from the operation. Either pass `include_groups=False` to exclude the groupings or explicitly select the grouping columns after groupby to silence this warning.\n",
      "  df_above_threshold = df.groupby('year_month').apply(lambda x: (x['score'] > threshold).mean() * 100).reset_index(name='percentage_above_threshold')\n",
      "/tmp/ipykernel_3165874/891171701.py:100: DeprecationWarning: DataFrameGroupBy.apply operated on the grouping columns. This behavior is deprecated, and in a future version of pandas the grouping columns will be excluded from the operation. Either pass `include_groups=False` to exclude the groupings or explicitly select the grouping columns after groupby to silence this warning.\n",
      "  df_above_threshold = df.groupby('year_month').apply(lambda x: (x['score'] > threshold).mean() * 100).reset_index(name='percentage_above_threshold')\n",
      "/tmp/ipykernel_3165874/891171701.py:100: DeprecationWarning: DataFrameGroupBy.apply operated on the grouping columns. This behavior is deprecated, and in a future version of pandas the grouping columns will be excluded from the operation. Either pass `include_groups=False` to exclude the groupings or explicitly select the grouping columns after groupby to silence this warning.\n",
      "  df_above_threshold = df.groupby('year_month').apply(lambda x: (x['score'] > threshold).mean() * 100).reset_index(name='percentage_above_threshold')\n",
      "/tmp/ipykernel_3165874/891171701.py:100: DeprecationWarning: DataFrameGroupBy.apply operated on the grouping columns. This behavior is deprecated, and in a future version of pandas the grouping columns will be excluded from the operation. Either pass `include_groups=False` to exclude the groupings or explicitly select the grouping columns after groupby to silence this warning.\n",
      "  df_above_threshold = df.groupby('year_month').apply(lambda x: (x['score'] > threshold).mean() * 100).reset_index(name='percentage_above_threshold')\n"
     ]
    }
   ],
   "source": [
    "stats_res=dict()\n",
    "for file_n in ['results_scores_email_BINOCULAR.json']:#'results_scores_sent_BINOCULAR.json','results_scores_email_BINOCULAR.json',results_scores_para_BINOCULAR\n",
    "    stats_res[file_n]=dict()\n",
    "    f=open(file_n)\n",
    "    tmp=json.load(f)\n",
    "    f.close()\n",
    "    tmp2=[]\n",
    "    for key in tmp.keys():\n",
    "        tmp2+=tmp[key]\n",
    "        stats_res[file_n][key]=dict()\n",
    "        print(len(tmp[key]))\n",
    "        \n",
    "        arr = np.array([x[1] for x in tmp[key] if not math.isnan(x[1])])# and x[1]>0 and x[1]<1])\n",
    "        print(len(arr))\n",
    "        # Calculating statistics\n",
    "        mean = np.mean(arr)\n",
    "        std_dev = np.std(arr)\n",
    "        minimum = np.min(arr)\n",
    "        maximum = np.max(arr)\n",
    "        median = np.median(arr)\n",
    "        q1 = np.percentile(arr, 25)  # First quartile (25th percentile)\n",
    "        q3 = np.percentile(arr, 75)  # Third quartile (75th percentile)\n",
    "        \n",
    "        stats_res[file_n][key][\"Mean\"]=mean\n",
    "        stats_res[file_n][key][\"Standard Deviation\"]=std_dev\n",
    "        stats_res[file_n][key][\"Min\"]=minimum\n",
    "        stats_res[file_n][key][\"Max\"]=maximum\n",
    "        stats_res[file_n][key][\"Median\"]=median\n",
    "        stats_res[file_n][key][\"First Quartile (Q1)\"]= q1\n",
    "        stats_res[file_n][key][\"Third Quartile (Q3)\"]= q3\n",
    "    # Example list of lists with [score, date]\n",
    "    # data = [x[1:] for x in tmp2]\n",
    "    \n",
    "    # # Convert to DataFrame\n",
    "    # df = pd.DataFrame(data, columns=['score', 'date'])\n",
    "    \n",
    "    # # Convert the 'date' column to datetime\n",
    "    # df['date'] = pd.to_datetime(df['date'])\n",
    "    \n",
    "    # # Extract the year from the date\n",
    "    # df['year'] = df['date'].dt.year\n",
    "    \n",
    "    # # Group by the year and calculate the average score\n",
    "    # df_avg = df.groupby('year')['score'].mean().reset_index()\n",
    "    \n",
    "    # # Plot the average score by year\n",
    "    # plt.figure(figsize=(8, 6))\n",
    "    # plt.plot(df_avg['year'], df_avg['score'], marker='o')\n",
    "    # plt.title('Average Score by Year with Binocular for '+file_n)\n",
    "    # plt.xlabel('Year')\n",
    "    # plt.ylabel('Average Score')\n",
    "    # plt.grid(True)\n",
    "    # plt.savefig(file_n+'_year_BINOCULAR.png', dpi=300, bbox_inches='tight')\n",
    "    # plt.close()\n",
    "    \n",
    "    data =[x[1:] for x in tmp2]\n",
    "    print(len(data))\n",
    "    data=[[1.15-x[0],x[1]] for x in data if not math.isnan(x[0])]# and x[0]>0 and x[0]<1]\n",
    "    print(len(data))\n",
    "    # Convert to DataFrame\n",
    "    df = pd.DataFrame(data, columns=['score', 'date'])\n",
    "    \n",
    "    # Convert the 'date' column to datetime\n",
    "    df['date'] = pd.to_datetime(df['date'])\n",
    "    \n",
    "    # Create a new column with year-month (e.g., '2023-02')\n",
    "    df['year_month'] = df['date'].dt.to_period('M')\n",
    "    \n",
    "    # Group by the year-month and calculate the average score\n",
    "    df_avg_month = df.groupby('year_month')['score'].mean().reset_index()\n",
    "    \n",
    "    # Convert 'year_month' back to datetime for plotting purposes\n",
    "    df_avg_month['year_month'] = df_avg_month['year_month'].dt.to_timestamp()\n",
    "    \n",
    "    # Plot the average score by year-month\n",
    "    plt.figure(figsize=(10, 6))\n",
    "    plt.plot(df_avg_month['year_month'], df_avg_month['score'], marker='o')\n",
    "    plt.title('Average Score by Month with Binocular for '+file_n)\n",
    "    plt.xlabel('Month')\n",
    "    plt.ylabel('Average Score')\n",
    "    plt.xticks(rotation=45)\n",
    "    plt.grid(True)\n",
    "    # plt.ylim(0.54, 0.555)\n",
    "    plt.savefig(file_n+'_month_BINOCULAR.png', dpi=300, bbox_inches='tight')\n",
    "    plt.close()\n",
    "\n",
    "\n",
    "    for threshold in [0.75,0.80,0.85,0.90,0.95]:\n",
    "        threshold=1-threshold\n",
    "        # Convert to DataFrame\n",
    "        df = pd.DataFrame(data, columns=['score', 'date'])\n",
    "        \n",
    "        # Convert the 'date' column to datetime\n",
    "        df['date'] = pd.to_datetime(df['date'])\n",
    "        \n",
    "        # Create a new column with year-month (e.g., '2023-02')\n",
    "        df['year_month'] = df['date'].dt.to_period('M')\n",
    "        \n",
    "        # Group by year-month and calculate the percentage of values above the threshold\n",
    "        df_above_threshold = df.groupby('year_month').apply(lambda x: (x['score'] > threshold).mean() * 100).reset_index(name='percentage_above_threshold')\n",
    "        \n",
    "        # Convert 'year_month' back to datetime for plotting purposes\n",
    "        df_above_threshold['year_month'] = df_above_threshold['year_month'].dt.to_timestamp()\n",
    "        \n",
    "        # Plot the histogram (as a bar plot)\n",
    "        plt.figure(figsize=(10, 6))\n",
    "        plt.bar(df_above_threshold['year_month'], df_above_threshold['percentage_above_threshold'], width=20, color='skyblue')\n",
    "        plt.title(f'Percentage of Values Above {threshold} and likely to be AI Gen by Month for {file_n}')\n",
    "        plt.xlabel('Month')\n",
    "        plt.ylabel('Percentage of Values Above Threshold')\n",
    "        plt.xticks(rotation=45)\n",
    "        plt.grid(True)\n",
    "        plt.savefig(file_n+'_'+str(threshold)+'_barplot_BINOCULAR.png', dpi=300, bbox_inches='tight')\n",
    "        plt.close()\n"
   ]
  },
  {
   "cell_type": "code",
   "execution_count": 24,
   "id": "118877f0-0b6b-4f84-91c0-8270aedd6a35",
   "metadata": {},
   "outputs": [],
   "source": [
    "f=open('stats_res_BINOCULAR.json','w')\n",
    "json.dump(stats_res,f)\n",
    "f.close()"
   ]
  },
  {
   "cell_type": "code",
   "execution_count": 30,
   "id": "7ad3ae52-99ab-48df-bf9e-82b88176784d",
   "metadata": {},
   "outputs": [
    {
     "data": {
      "text/plain": [
       "10"
      ]
     },
     "execution_count": 30,
     "metadata": {},
     "output_type": "execute_result"
    }
   ],
   "source": [
    "len([x for x in data if '2022-05' in x[1]])"
   ]
  },
  {
   "cell_type": "code",
   "execution_count": 31,
   "id": "d8153574-ea36-4910-bbf0-da6b3ef615c1",
   "metadata": {},
   "outputs": [
    {
     "data": {
      "text/plain": [
       "3000"
      ]
     },
     "execution_count": 31,
     "metadata": {},
     "output_type": "execute_result"
    }
   ],
   "source": [
    "len([x for x in data ])"
   ]
  },
  {
   "cell_type": "code",
   "execution_count": null,
   "id": "57d26629-5c5f-44ff-bb33-b3719bb2cefe",
   "metadata": {},
   "outputs": [],
   "source": []
  }
 ],
 "metadata": {
  "kernelspec": {
   "display_name": "ForLLMLora August",
   "language": "python",
   "name": "forllmlora"
  },
  "language_info": {
   "codemirror_mode": {
    "name": "ipython",
    "version": 3
   },
   "file_extension": ".py",
   "mimetype": "text/x-python",
   "name": "python",
   "nbconvert_exporter": "python",
   "pygments_lexer": "ipython3",
   "version": "3.10.14"
  }
 },
 "nbformat": 4,
 "nbformat_minor": 5
}
