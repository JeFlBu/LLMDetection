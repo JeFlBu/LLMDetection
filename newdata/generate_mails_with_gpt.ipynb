{
 "cells": [
  {
   "cell_type": "code",
   "execution_count": null,
   "id": "873dbea7-1865-4d41-b2a6-d465e53a15c2",
   "metadata": {},
   "outputs": [],
   "source": [
    "#We could make different strats for generaion. Asking to make it sound not like human. And also combinated or not with few shot"
   ]
  },
  {
   "cell_type": "code",
   "execution_count": 7,
   "id": "c7a348b1-7cd7-4db7-a328-118a240c207c",
   "metadata": {},
   "outputs": [],
   "source": [
    "import json"
   ]
  },
  {
   "cell_type": "code",
   "execution_count": 8,
   "id": "a5ebcfef-1cdd-4ec9-b7dd-38813482b87a",
   "metadata": {},
   "outputs": [],
   "source": [
    "import json\n",
    "import os\n",
    "from tqdm import tqdm\n",
    "from sklearn.metrics import accuracy_score, precision_score, recall_score, f1_score, confusion_matrix\n",
    "import pandas as pd\n",
    "from collections import Counter"
   ]
  },
  {
   "cell_type": "code",
   "execution_count": 9,
   "id": "5793ae15-3a61-42d6-bd90-88e7b78ae1de",
   "metadata": {},
   "outputs": [],
   "source": [
    "import os\n",
    "from openai import OpenAI\n",
    "\n",
    "client = OpenAI(\n",
    "    # This is the default and can be omitted\n",
    "    #os.environ.get(\"OPENAI_API_KEY\"),\n",
    ")\n",
    "\n",
    "if not os.path.exists('saved_execs_gpt_withev.json'):\n",
    "    dico = dict()\n",
    "else:\n",
    "    f=open('saved_execs_gpt_withev.json','r')\n",
    "    dico=json.load(f)\n",
    "    f.close()\n",
    "\n"
   ]
  },
  {
   "cell_type": "code",
   "execution_count": 10,
   "id": "20245914-e4d2-40f2-96c6-5bb229636b5d",
   "metadata": {},
   "outputs": [],
   "source": [
    "def run_chatGPT(prompt):\n",
    "    if prompt in dico:\n",
    "        return dico[prompt]\n",
    "    chat_completion = client.chat.completions.create(\n",
    "        messages=[\n",
    "            {\n",
    "                \"role\": \"user\",\n",
    "                \"content\": prompt,\n",
    "            }\n",
    "        ],\n",
    "        model=\"gpt-4o-mini\",\n",
    "    )\n",
    "    dico[prompt]=chat_completion.choices[0].message.content.strip()\n",
    "    if len(dico.keys())%100==0 and len(dico.keys())>0:\n",
    "        print('saving dico')\n",
    "        f=open('saved_execs_gpt_withev.json','w')\n",
    "        json.dump(dico,f)\n",
    "        f.close()\n",
    "    return chat_completion.choices[0].message.content.strip()"
   ]
  },
  {
   "cell_type": "code",
   "execution_count": null,
   "id": "66ca1515-cd26-4656-8e56-3b485fd5e40a",
   "metadata": {},
   "outputs": [],
   "source": []
  },
  {
   "cell_type": "code",
   "execution_count": 11,
   "id": "e39b1372-7462-4181-bff7-f06644620410",
   "metadata": {},
   "outputs": [
    {
     "name": "stdout",
     "output_type": "stream",
     "text": [
      "                                  unique_id  \\\n",
      "0  457u05pjd7kongfr0imdvcaq6rbmvssl1d7troo1   \n",
      "1  p1pe1prrd1pr4r6h5qdbatsvfqfi51ioa725cq01   \n",
      "2  ea595u17b5i8kfmd4mtlk9r6sk2bncbm052ddq01   \n",
      "3  7e4obgga3tv0adrgcro8hrggo4g9ulksol3d9qg1   \n",
      "4  5vipcmv6eqa27d1sdoekfmqeq8pon7hrk459h9g1   \n",
      "\n",
      "                                                body                 date  \\\n",
      "0  \\r\\n\\n--- mail_boundary ---\\n\\r\\n\\r\\n\\r\\n\\r\\n\\...  2022-10-26 09:44:03   \n",
      "1  \\r\\n\\n--- mail_boundary ---\\n\\r\\n\\r\\n\\r\\n\\r\\n\\...  2022-06-03 19:40:09   \n",
      "2  \\r\\n\\n--- mail_boundary ---\\n\\r\\n\\r\\n\\r\\n\\r\\n\\...  2022-09-28 17:01:51   \n",
      "3  Te acercamos los mejores destinos. \\r\\n\\r\\nÂ¿N...  2022-09-16 11:13:49   \n",
      "4  \\r\\n\\n--- mail_boundary ---\\n\\r\\n\\r\\n\\r\\n\\r\\n\\...  2022-11-21 13:44:02   \n",
      "\n",
      "                                        cleaned_text  \n",
      "0  mailboundary variety international breaking ne...  \n",
      "1  mailboundary variety breaking news view web ne...  \n",
      "2  mailboundary craft top line alert view web new...  \n",
      "3  te acercamos los mejores destinos puedes verlo...  \n",
      "4  mailboundary variety international breaking ne...  \n"
     ]
    }
   ],
   "source": [
    "\n",
    "import pandas as pd\n",
    "\n",
    "# Load a parquet file into a pandas DataFrame\n",
    "df_before = pd.read_parquet('before_gpt.parquet')\n",
    "\n",
    "# Display the first few rows of the dataframe\n",
    "print(df_before.head())\n"
   ]
  },
  {
   "cell_type": "code",
   "execution_count": 12,
   "id": "517b8c30-07ea-4b5e-bb2b-efbe51a801d8",
   "metadata": {},
   "outputs": [],
   "source": [
    "txt_emails_to_use=list(df_before['cleaned_text'][:400])"
   ]
  },
  {
   "cell_type": "code",
   "execution_count": 13,
   "id": "cf26519a-b73e-4cb5-8292-59103b98045f",
   "metadata": {},
   "outputs": [],
   "source": [
    "ids_emails_to_use=list(df_before['unique_id'][:400])"
   ]
  },
  {
   "cell_type": "code",
   "execution_count": 14,
   "id": "73657e5f-9a78-4fbf-9c5a-ef55545af2b0",
   "metadata": {},
   "outputs": [
    {
     "data": {
      "text/plain": [
       "['test email mailboundary plus finnish immigrants settled minnesota youre trouble viewing email may see online talkers p r e two st paul football teams banned high school playoffs suspensions game harding humboldt johnson stopped fourth quarter altercation among players read minneapolis attorneys council cant pause homeless camp closures effort temporarily halt closing homeless encampments across minneapolis failed thursday city council members told dont authority read steve bannon sentenced 4 months behind bars defying jan 6 subpoena steve bannon longtime ally former president donald trump sentenced friday serve four months behind bars defying subpoena house committee investigating jan 6 insurrection u capitol judge allowed bannon stay free pending appeal also imposed fine 6500 part sentence read another 10 grants help riotdamaged minneapolis corridors rebuild new main street revitalization grants administered minnesota department employment economic development e e help 20 small businesses nonprofits finish redevelopment projects followed another 195 million worth grants 202324 minneapolis corridors brooklyn center brooklyn park read northern minnesota congressional race reflects changing political makeup g p rep pete stauber f l state rep jennifer schultz face eighth congressional district democratic stronghold concentrated iron range duluth largest city thats changed conservatism power grows north duluth south west read w c h h bear schnauzer come facetoface duluth staci gilpin shared footage 12yearold schnauzer liebs trying failing scare black bear approached sliding glass door gilpins husband eventually got bear move throwing rocks said talk us send feedback newsletter questions story tips ideas anything else talkersstartribunecom r e n n g finnish immigrants come minnesota minnesota boasts residents finnish ancestry state story finns arrived distinct swedes norwegians several ways read p r b l n k landing top recruit evans gophers show oldschool values still matter announcing decision monday 7foot1 center dennis evans said decision pick gophers c u several highprofile programs came really good relationship honest everything made decision feel right read someone forward newsletter sign talkers w r h c l c k iowa n r says mountain lion sighting des moines actually house cat des moines police posted facebook thursday saying sighting reported grays woods neighborhood citys east side n r confirmed video showed mountain lion since corrected statement k c c reports read l k e r r v want win 15 gift card choice friday means time another trivia question correct answer question found story appeared talkers week cant prevent simply googling answer googling encouraged email answer talkersstartribunecom sunday 1159 pm winner selected random correct responses lucky reader receive 15 card choice one several retailers best buy target holiday menards well shoutout mondays newsletter weeks question name minnesotas oldest brewpub quietly closed doors week good luck f r h e r c h v e oct 22 1970 robert kunzig right administrator general services administration g talks robert forsythe chairman g 16member national advisory council republican candidate minnesota attorney general inspect damage previous summers bombing old federal building downtown minneapolis building home military induction office focus numerous anti vietnam war protests person group ever claimed responsibility blast photo charles bjorgen star tribune connect star tribune manage email preferences subscribe star tribune privacy policy unsubscribe email sent star tribune 650 3rd ave suite 1300 minneapolis n 55488 2022 star tribune rights reserved value opinion give us feedback',\n",
       " 'mailboundary variety breaking news view web new reader subscribe breaking news june 21 2022 aidy bryants n l exit interview worried going fully crying aidy bryant saying goodbye saturday night live charting future hollywood read email sent chantalrenardalchemymaileu variety please add emailemailvarietycom address book ensure delivery inbox visit preferences center update profile customize email alerts newsletters receive copyright 2022 variety media l l c subsidiary penske business media l l c 11175 santa monica boulevard los angeles c 90025 view browser privacy policy california privacy rights ad choices terms use unsubscribe update profile',\n",
       " 'mailboundary variety breaking news view web new reader subscribe breaking news november 17 2022 barack obama appear daily show trevor noah e x c l u v e former president barack obama appear upcoming episode daily show trevor noah read email sent sharonhaileyalchemymailnet variety please add emailemailvarietycom address book ensure delivery inbox visit preferences center update profile customize email alerts newsletters receive copyright 2022 variety media l l c subsidiary penske business media l l c 11175 santa monica boulevard los angeles c 90025 view browser privacy policy california privacy rights ad choices terms use unsubscribe update profile',\n",
       " 'alter net russian propagandists claim moscow studying mara lago nuclear documents view browser p r e f l l w u florida prosecutor sheds light another troubling thing revealed mara lago search heres complete guide every excuse republicans made trumps theft classified documents shes loaded guns lauren boeberts neighbors forced call 911 pattern conduct destroy federal record c r e w urges j probe missing jan 6 texts hes sure melania michael cohen claims trump scrambling find mara lago f b informant national archives corrects record trump accuses obama mishandling documents substantial legal jeopardy george conway assesses trumps legal woes criticizing continuing defend guy eric trump gushes homophobic pastor rightwing event russian propagandists claim moscow studying mara lago nuclear documents didnt like read missouri paper highlights particularly curious element trumps document stash might like g e r e copyright 2022 alter net media inc rights reserved p box 21040 washington c 200090550 receiving email opted receive newsletter website unsubscribe newsletter',\n",
       " 'novedades tecnolgicas para mejorar tu da da puedes verlo bien prueba abrirlo en tu navegador el mayor cambio del samsung galaxy s23 llegar en su diseo cmo ser el one plus nord watch es oficial es competencia para el apple watch adems amazon est de estreno nuevo kindle scribe mejores echo dot ms google maps anuncia nuevas funciones perfectas para visitar ciudades google finalmente cierra stadia estos son los motivos las consecuencias cmo hacer fotos con el nuevo phone 14 pro una resolucin de 48 p xiaomi lanza un nuevo mvil va romper la gama media llegar europa las comunidades de whats app son una realidad puedes utilizarlas gracias por leernos disfruta de otras newsletters de e l p publicidad recibido este boletn porque aceptado recibir la newsletter de smartlife para ms informacin consulta la poltica de privacidad de los medios prisa borrar cuenta si quieres borrar tu cuenta de los medios prisa si quieres ejercer tus derechos puedes hacerlo por email privacidadprisacom desde tu correo toneyhallalchemymailnet baja total si tienes contrasea en e l p puedes acceder tu perfil para dar de baja todos los boletines cancelar tu cuenta de e l p baja boletn si quieres dar de baja este boletn concreto dirigido toneyhallalchemymailnet puedes darte de baja clicando aqu mailboundary newsletter smartlife novedades tecnolgicas para mejorar tu da da puedes verlo bien prueba abrirlo en tu navegador el mayor cambio del samsung galaxy s23 llegar en su diseo cmo ser el one plus nord watch es oficial es competencia para el apple watch adems amazon est de estreno nuevo kindle scribe mejores echo dot ms google maps anuncia nuevas funciones perfectas para visitar ciudades google finalmente cierra stadia estos son los motivos las consecuencias cmo hacer fotos con el nuevo phone 14 pro una resolucin de 48 p xiaomi lanza un nuevo mvil va romper la gama media llegar europa las comunidades de whats app son una realidad puedes utilizarlas gracias por leernos disfruta de otras newsletters de e l p publicidad recibido este boletn porque aceptado recibir la newsletter de smartlife para ms informacin consulta la poltica de privacidad de los medios prisa borrar cuenta si quieres borrar tu cuenta de los medios prisa si quieres ejercer tus derechos puedes hacerlo por email privacidadprisacom desde tu correo toneyhallalchemymailnet baja total si tienes contrasea en e l p puedes acceder tu perfil para dar de baja todos los boletines cancelar tu cuenta de e l p baja boletn si quieres dar de baja este boletn concreto dirigido toneyhallalchemymailnet puedes darte de baja clicando aqu',\n",
       " 'looks like email client might support h l formatted email try opening email another email client open following link view email browser respect privacy email sent error longer wish receive email open following link browser unsubscribe mailboundary attorney general merrick garland appointing special counsel determine whether former president trump face criminal charges arising two justice department investigations n e w l e r friday november 18 2022 n e w l e r g garland appoints special counsel weigh criminal charges trump attorney general merrick garland appointing special counsel determine whether former president trump face criminal charges arising two justice department investigations read washington times 3600 new york avenue n e washington c 20002 received email signed newsletters washington times manage newsletters unsubscribe',\n",
       " 'news ministero difesa news ministero della difesa notizia del 05072022 il ministro guerini al vertice intergovernativo italia turchia il ministro della difesa lorenzo guerini ha preso parte oggi ad ankara al terzo vertice intergovernativo italoturco presieduto dal presidente del consiglio mario draghi insieme al presidente della repubblica di turchia recep tayyip erdoan margine del vertice lincontro bilaterale con il collega turco hulusi akar guerini soddisfazione per firma sede di vertice italia turchia dellaccordo sulla reciproca protezione delle informazioni classificate nellindustria della difesa ankara partner rilevante per sicurezza collettiva e stabilit del mediterraneo notizia del 08072022 sanit militare sanit civile digitalizzazione e territorio il progetto della difesa il ministro della difesa lorenzo guerini intervenuto questa mattina alla conferenza sanit militare sanit civile digitalizzazione e territorio il progetto della difesa che si svolta al centro alti studi della difesa c notizia del 07072022 cooperazione italia qatar nel settore difesa il ministro della difesa lorenzo guerini ha incontrato oggi la spezia il vice primo ministro e ministro di stato per gli affari della difesa del qatar khalid bin mohamed al attiyah incontro bilaterale organizzato occasione della consegna del pattugliatore daltura sheraouh prodotto da fincantieri guerini cooperazione tra italia e qatar intensa nel settore difesa numerose attivit di spiccato valore strategico notizia del 06072022 visita del ministro guerini pesaro il ministro della difesa lorenzo guerini oggi pesaro ha siglato un protocollo dintesa per la riqualificazione di immobili militari giornata anche la visita al 28 reggimento comunicazioni operative pavia e la cerimonia per la deposizione di una targa ai caduti di nassiriya notizia del 05072022 il sottosegretario pucciarelli al 20 anniversario c c r partecipazione sottosegretario di stato alla difesa sen stefania pucciarelli alla tavola rotonda sulla cooperazione ambito 20 anniversario c c r c c r cooperazione tra nazioni tra partner industriali e tra organizzazioni internazionali',\n",
       " 'cleared collision r 518 e b i5 cleared 214 p r 518 eastbound west i5 p 3 collision blocking center lane c n n e c e visit blog visit us facebook visit us flickr visit us twitter visit us tube email updates u b c r b e r e r v c e manage preferences unsubscribe help email sent paulinearnaudalchemymaileu using gov delivery communications cloud behalf washington state department transportation 310 maple park ave e olympia w 98504 mailboundary collision r 518 e b i5 cleared collision r 518 e b i5 cleared 214 p r 518 eastbound west i5 p 3 collision blocking center lane c n n e c e u b c r b e r e r v c e manage preferences unsubscribe help email sent paulinearnaudalchemymaileu using gov delivery communications cloud behalf washington state department transportation 310 maple park ave e olympia w 98504',\n",
       " 'nectar relied customertexting strategy drive awareness trouble viewing email see online version news alert thursday september 29 2022 region top hard seltzer brand used tik tok texting convince retailers would sell nectar relied customertexting strategy drive awareness read nectar covers persons eyes copyright 19922022 ad age 685 third ave new york n 10017 united states unsubscribe email preferences subscribe advertise mailboundary behind hard seltzers tik tok success nectar relied customertexting strategy drive awareness trouble viewing email see online version news alert thursday september 29 2022 region top hard seltzer brand used tik tok texting convince retailers would sell nectar relied customertexting strategy drive awareness read leaders like also reading ms debuts first new character decadeand purple purple launches music video signature song im gonna r e r e mc donalds cactus plant flea market collab like happy meals adults fast food chain partners buzzy streetwear brand next big pop culture marketing play r e r e behind lowes home depot c turnover says retail trends pandemicinduced growth home improvement category may slowing consumers watch wallets r e r e walmart enters metaverse massive roblox effort virtual merchandise slots beauty fashion toy brands also abound retailers combination music festival r e r e u b c r b e dont miss latest subscriber exclusive features subscribe save 20 copyright 19922022 ad age 685 third ave new york n 10017 united states unsubscribe email preferences subscribe advertise',\n",
       " 'newsletter u e e p e b e r 6 2022 review journal investigative reporter jeff german killed outside home david wilson las vegas review journal september 6 2022 paxton media group acquires operations tennessee georgia alabama press release dirks van essen april september 6 2022 white paper shows googles ongoing use abuse news content need journalism competition preservation act staff news media alliance september 6 2022 fox producers warning jeanine pirro surfaces dominion defamation suit david folkenflik n p r september 6 2022 p n r e e p 360 media alliance news media business summit oct 1214 e p 360 media alliance pennsylvania news media association c cronkite school partner diversity pledge institute launch e programs staff walter cronkite school journalism mass communication september 6 2022 measuring impact engaging readers news product irina matchavarini r j september 6 2022 exreporter jailed 22 years russia treason charges staff associated press september 6 2022 politicos new german owner contrarian plan american media sarah ellison washington post september 6 2022 biden warned democracys collapse v networks aired reruns paul farhi washington post september 6 2022 national geographic magazine lays six top editors paul farhi washington post september 6 2022 former tribune review v p carroll quinns infectious attitude inspired family business partners renatta signorini trib total media september 6 2022 russia revokes media license top independent newspaper staff associated press september 6 2022 rick connor retires president c e black press media group press release black press media group september 6 2022 opinion another notable departure raises questions c n n tom jones poynter september 6 2022 john miller joins c n n chief law enforcement intelligence analyst press release c n n september 6 2022 dr tara narula joins c n n medical correspondent press release c n n september 6 2022 andy roberts named white lake beacon editor staff white lake beacon september 2 2022 monadnock paper mills inc welcomes new senior sales representative press release monadnock paper mills september 6 2022 valley water document specialist word processor document coordinator document editor san jose c 95118 document specialist word processor document coordinator document editor sports betting coordinator writer baton rouge l 70809 sports betting writercoordinator works within department produces sports sr reporter 2 opportunities job id 52735 tallahassee f l 32399 w f u v florida channel openings experienced reporters join team twin cities beat reporter minneapolis n 55414 location minneapolis n starting salary 58000 r 63000 assistant associate professor multimedia journalism 000454 richmond v 23173 department journalism school arts sciences university multimedia sales execitive saint louis 63102 multimedia sales executive bridge tower media looking news producer birmingham l 35209 w b r c fox6 news looking creative producers join awardwinning news team e e r e l n g hagar horrible chris browne u g e n e r e u n g c r e v e c r c l e c n e n n g e e n e editor publisher magazine 19606 eagle crest dr lutz f l 33549 unsubscribe brigitterenaudalchemymaileu update profile constant contact data notice sent enewseditorandpublishercom mailboundary newsletter u e e p e b e r 6 2022 review journal investigative reporter jeff german killed outside home david wilson las vegas review journal september 6 2022 paxton media group acquires operations tennessee georgia alabama press release dirks van essen april september 6 2022 white paper shows googles ongoing use abuse news content need journalism competition preservation act staff news media alliance september 6 2022 fox producers warning jeanine pirro surfaces dominion defamation suit david folkenflik n p r september 6 2022 p n r e e p 360 media alliance news media business summit oct 1214 e p 360 media alliance pennsylvania news media association c cronkite school partner diversity pledge institute launch e programs staff walter cronkite school journalism mass communication september 6 2022 measuring impact engaging readers news product irina matchavarini r j september 6 2022 exreporter jailed 22 years russia treason charges staff associated press september 6 2022 politicos new german owner contrarian plan american media sarah ellison washington post september 6 2022 biden warned democracys collapse v networks aired reruns paul farhi washington post september 6 2022 national geographic magazine lays six top editors paul farhi washington post september 6 2022 former tribune review v p carroll quinns infectious attitude inspired family business partners renatta signorini trib total media september 6 2022 russia revokes media license top independent newspaper staff associated press september 6 2022 rick connor retires president c e black press media group press release black press media group september 6 2022 opinion another notable departure raises questions c n n tom jones poynter september 6 2022 john miller joins c n n chief law enforcement intelligence analyst press release c n n september 6 2022 dr tara narula joins c n n medical correspondent press release c n n september 6 2022 andy roberts named white lake beacon editor staff white lake beacon september 2 2022 monadnock paper mills inc welcomes new senior sales representative press release monadnock paper mills september 6 2022 valley water document specialist word processor document coordinator document editor san jose c 95118 document specialist word processor document coordinator document editor sports betting coordinator writer baton rouge l 70809 sports betting writercoordinator works within department produces sports sr reporter 2 opportunities job id 52735 tallahassee f l 32399 w f u v florida channel openings experienced reporters join team twin cities beat reporter minneapolis n 55414 location minneapolis nnbsp starting salary 58000 r 63000 nbsp assistant associate professor multimedia journalism 000454 richmond v 23173 department journalism school arts sciences university multimedia sales execitive saint louis 63102 multimedia sales executivenbsp bridge tower media nbspis looking news producer birmingham l 35209 w b r c fox6 news looking creative producers join awardwinning news team e e r e l n g hagar horrible chris browne u g e n e r e u n g c r e v e c r c l e c n e n n g e e n e editor publisher magazine 19606 eagle crest dr lutz f l 33549 unsubscribe brigitterenaudalchemymaileu update profile constant contact data notice sent enewseditorandpublishercom']"
      ]
     },
     "execution_count": 14,
     "metadata": {},
     "output_type": "execute_result"
    }
   ],
   "source": [
    "txt_emails_to_use[30:40]\n"
   ]
  },
  {
   "cell_type": "raw",
   "id": "b4e707f1-5b6c-435e-8d4a-7bf804aa9b66",
   "metadata": {},
   "source": [
    "list_prompts=[\"\"\"Write an email in the style of a breaking news newsletter from a media company, focusing on recent developments in popular culture, world news, or other relevant topics. The email should include:\n",
    "\n",
    "A brief, attention-grabbing subject line (8-12 words), such as: 'Iranian Actors Imprisoned Over Protest – International Reactions.'\n",
    "A greeting and a brief introduction (20-30 words) to set the context, such as 'Hello, here are the latest breaking news stories and updates from Variety.'\n",
    "The main headline in bold (1-2 sentences) summarizing the key information of the news, such as 'Two popular Iranian actors have been imprisoned for appearing in public without headscarves in protest of Mahsa Amini’s death.'\n",
    "A detailed summary (50-80 words) that covers key details, implications, and context around the main story.\n",
    "A call-to-action link or note, directing the reader to read more on the website (e.g., 'Read the full story on Variety’s website here').\n",
    "Footer information that includes the email sender’s details, subscription information, and links to update preferences or unsubscribe, following this template: 'You are receiving this email because you subscribed to Variety’s Breaking News. Update your preferences or unsubscribe here.'\n",
    "Use clear, professional, and engaging language as seen in news or entertainment newsletters, keeping the tone informative and concise.\"\"\",\n",
    "\n",
    "\n",
    "\n",
    "\n",
    "\"\"\"Write a professional email in the style of a commercial or public service newsletter, structured for a specific type of news or alert. Include these sections:\n",
    "\n",
    "Subject Line: A clear, attention-grabbing subject line that concisely captures the main message. Examples include: 'Discover the New Facom Boutique' or 'Alert Cleared: Disabled Vehicle on I-5 Northbound.'\n",
    "\n",
    "Introduction or Header Line: A brief greeting or short phrase (10-15 words) that introduces the topic, such as 'Check out our latest updates from Master Outillage' or 'Your alert update from the Washington State Department of Transportation.'\n",
    "\n",
    "Main Content:\n",
    "\n",
    "If the email is promotional, list 1-3 featured products or services, each with:\n",
    "Product Name (bolded or italicized)\n",
    "Short description (1-2 sentences) about the product features or offer\n",
    "Call-to-action text such as 'Discover the product' or 'Shop now.'\n",
    "If the email is a news or alert update, summarize the main content (2-3 sentences) with the key information (e.g., location of traffic incident or award announcement details).\n",
    "Offer or Call-to-Action (optional): Include a limited-time offer, promo code, or link to read more. Examples: 'Use code FACOM10 at checkout' or 'See job details and apply here.'\n",
    "\n",
    "Footer Information: Add standard footer details, such as sender’s address, unsubscribe link, or contact info. Examples: 'Update your preferences or unsubscribe here.'\n",
    "\n",
    "Use professional, clear, and concise language, tailored to either a promotional or alert style.\"\"\",\n",
    "             \n",
    "             \n",
    "             \n",
    "             \n",
    "             \"\"\"Write a professional email in the style of a promotional newsletter or alert, similar to the following example styles. Pay close attention to formatting, conciseness, and the professional tone used in each section.\n",
    "\n",
    "Style and Formatting Guidelines:\n",
    "Subject Line: Create a short, compelling subject line (7-12 words) capturing the main idea. For example:\n",
    "\n",
    "'New Limited Edition Facom Tools Available Now'\n",
    "'Traffic Alert Cleared: I-5 Northbound Near Port of Tacoma.'\n",
    "Opening Line: Start with a short greeting or intro (10-20 words), directly addressing the recipient with information that sets the email’s context and purpose. Examples:\n",
    "\n",
    "'Bonjour, retrouvez toutes les nouvelles offres à Paris et ses alentours.'\n",
    "'Here’s the latest news and traffic updates from the WSDOT.'\n",
    "Main Body Content:\n",
    "\n",
    "For Promotional Content: Emphasize 1-3 highlighted items or offers with a consistent structure:\n",
    "Product Title in bold or italics\n",
    "A concise (1-2 sentence) description that gives clear information about the product or offer, e.g., 'Explore the Facom 3-ton Rolling Jack, a versatile tool for heavy lifting.'\n",
    "A clear call-to-action such as 'Shop Now,' 'View Product,' or 'Discover More.'\n",
    "For News or Alerts: Start with a brief headline in bold, then follow with a concise summary (2-3 sentences) that includes key details about the event, story, or alert. Add a 'Read More' or 'See Full Story' link.\n",
    "Footer Section: End with a professional footer including:\n",
    "\n",
    "Company contact information, privacy policy, and unsubscribe link.\n",
    "Use simple phrases such as 'You’re receiving this email because…' or 'Update your preferences or unsubscribe here.'\n",
    "Example Email Structure:\n",
    "Subject Line: New Deals for Paris 1st Arrondissement and Surroundings\n",
    "Greeting Line: Hello, check out today’s top offers from Pubeco!\n",
    "Content Section:\n",
    "Offer 1: Facom Tool Chest\n",
    "Get your hands on our limited-edition tool chest, specially designed for high performance.\n",
    "[Shop Now]\n",
    "Alert Headline: Traffic Alert Cleared: US-101 Near Jefferson County\n",
    "All lanes are now open following construction work. [Read More]\n",
    "Use these examples to guide the email’s tone, structure, and brevity.\"\"\"]\n",
    "\n",
    "\n"
   ]
  },
  {
   "cell_type": "code",
   "execution_count": 15,
   "id": "4354645f-0fd3-488d-b6d3-5e32fff7bf67",
   "metadata": {},
   "outputs": [],
   "source": [
    "prompt_for_generate=\"\"\"Generate a professional email on a randomly selected topic. The email should be clear, engaging, and well-structured, suitable for a wide range of purposes such as promotional offers, news updates, announcements, or general notifications. Follow these guidelines for a flexible and adaptable format:\n",
    "\n",
    "Subject Line: Create a brief, engaging subject line (6-12 words) that captures the essence of the email. Use keywords relevant to the content type, such as 'New Offers Available,' 'Important Update,' 'Event Reminder,' or 'Traffic Alert Cleared.'\n",
    "\n",
    "Greeting: Open with a polite greeting that’s appropriate for a general audience, such as 'Hello,' 'Dear Subscriber,' or 'Greetings.'\n",
    "\n",
    "Introduction or Hook: Begin with a sentence or two to introduce the email’s main topic, sparking interest and setting the tone. This can be welcoming, informative, or urgent depending on the content.\n",
    "\n",
    "Main Content: Write a concise, informative section that fits the topic. Choose one of the following styles based on the email type:\n",
    "\n",
    "Promotional Content: Highlight 1-3 offers, services, or products, each with a title, a short description (1-2 sentences), and a call-to-action like 'Learn More' or 'Shop Now.'\n",
    "News or Alerts: Start with a bold headline summarizing the news, followed by a brief description of key points (2-4 sentences). Include a link for more details if relevant.\n",
    "Event Announcements: Provide the event name, date, location, and key details (2-3 sentences), followed by RSVP or registration information.\n",
    "Personal or Corporate Updates: Use a friendly, conversational tone to share news or updates (3-4 sentences), ending with a call-to-action or invitation to reply.\n",
    "Closing and Call-to-Action: Conclude with a polite closing line that fits the email type, such as 'Looking forward to seeing you!' or 'Thank you for staying updated with us.' Optionally, include a call-to-action link or button, such as 'Visit Our Website' or 'Read Full Story.'\n",
    "\n",
    "Footer: End with standard footer elements, including sender contact info, unsubscribe link, and any necessary legal disclaimers.\n",
    "\n",
    "Ensure the email feels natural, relevant, and engaging, regardless of the chosen topic. Maintain a professional yet approachable tone.\"\"\""
   ]
  },
  {
   "cell_type": "code",
   "execution_count": 16,
   "id": "472be5b0-18cf-43a7-bc53-c8f24da5a0c3",
   "metadata": {},
   "outputs": [],
   "source": [
    "mimic_original=\"Mimic the style and format of the following emails exactly, preserving their tone, structure, and choice of punctuation. Use only the punctuation and special characters present in the original emails.\""
   ]
  },
  {
   "cell_type": "code",
   "execution_count": 17,
   "id": "0e0b28de-7789-425c-9787-a18242ecda0f",
   "metadata": {},
   "outputs": [],
   "source": [
    "random_topic_prompt=\"The randomly selected topic is:\""
   ]
  },
  {
   "cell_type": "code",
   "execution_count": 18,
   "id": "47d27797-80b0-48c7-a42f-169e2d1ed250",
   "metadata": {},
   "outputs": [],
   "source": [
    "themes_gpt_related_emails = [\n",
    "    \"Promotional Offers and Sales\",\n",
    "    \"Breaking News and Headlines\",\n",
    "    \"Traffic and Weather Alerts\",\n",
    "    \"Event Announcements and Recaps\",\n",
    "    \"Tech and Product News\",\n",
    "    \"Corporate and Government Updates\",\n",
    "    \"Entertainment and Media Releases\",\n",
    "    \"Community News and Local Updates\",\n",
    "    \"Job Openings and Career News\",\n",
    "    \"Newsletter and Opinion Highlights\",\n",
    "    \"Health and Lifestyle Tips\",\n",
    "    \"Customer Feedback and Surveys\"\n",
    "]"
   ]
  },
  {
   "cell_type": "code",
   "execution_count": 19,
   "id": "2c01f749-5b9e-42e9-bb2a-aea11294417a",
   "metadata": {},
   "outputs": [],
   "source": [
    "additional_themes = [\n",
    "    \"New Product Launches\",\n",
    "    \"Special Holiday Greetings\",\n",
    "    \"Weekly Digest\",\n",
    "    \"Monthly Recap\",\n",
    "    \"Exclusive Member Benefits\",\n",
    "    \"Security Alerts and Updates\",\n",
    "    \"Billing and Account Notices\",\n",
    "    \"Invitation to Join Beta Testing\",\n",
    "    \"Customer Success Stories\",\n",
    "    \"New Feature Announcements\",\n",
    "    \"Educational Content and Tutorials\",\n",
    "    \"Seasonal Recommendations\",\n",
    "    \"Personalized Recommendations\",\n",
    "    \"Industry News Roundup\",\n",
    "    \"Tips and Best Practices\",\n",
    "    \"Exclusive Early Access\",\n",
    "    \"Surveys and Feedback Requests\",\n",
    "    \"Policy Changes and Updates\",\n",
    "    \"Upcoming Sales Events\",\n",
    "    \"Free Trial or Demo Offers\",\n",
    "    \"Product Recall Notices\",\n",
    "    \"Service Outage and Restoration Updates\",\n",
    "    \"Birthday or Anniversary Wishes\",\n",
    "    \"Holiday Shipping Deadlines\",\n",
    "    \"Contest and Giveaway Announcements\",\n",
    "    \"Press Release Announcements\",\n",
    "    \"Thank You Messages\",\n",
    "    \"User Onboarding Series\",\n",
    "    \"Company Milestones and Celebrations\",\n",
    "    \"Inspirational Quotes and Motivation\"\n",
    "]"
   ]
  },
  {
   "cell_type": "code",
   "execution_count": 20,
   "id": "76d7ad2b-0ab1-4fdf-9e7b-38b910a11895",
   "metadata": {},
   "outputs": [],
   "source": [
    "subthemes = [\n",
    "    None,\n",
    "    \"Flash Sale Alert - Limited Time Only\",\n",
    "    \"VIP Access for Top Customers\",\n",
    "    \"Weather Preparedness Tips and Supplies\",\n",
    "    \"Breaking News in Entertainment and Celebrity Updates\",\n",
    "    \"Local Community Hero Stories\",\n",
    "    \"New Health Product Features\",\n",
    "    \"Weekly Recipe or Meal Planning Tips\",\n",
    "    \"Sustainable Product Announcements\",\n",
    "    \"Budget-Friendly Travel Destinations\",\n",
    "    \"Personal Finance Tips for Budgeting\",\n",
    "    \"Employee Spotlight and Achievements\",\n",
    "    \"Tech Trends in AI and Machine Learning\",\n",
    "    \"Fashion Trends for Upcoming Season\",\n",
    "    \"Pet Care Tips and Recommendations\",\n",
    "    \"DIY Home Improvement Ideas\",\n",
    "    \"Exclusive Webinars for Subscribers\",\n",
    "    \"Virtual Event Recaps and Key Takeaways\",\n",
    "    \"Monthly Meditation or Mindfulness Tips\",\n",
    "    \"Travel Restrictions and Safety Updates\",\n",
    "    \"First-Time Buyer Product Discounts\",\n",
    "    \"Interactive Customer Q&A Sessions\",\n",
    "    \"Special Interest Group Newsletters\",\n",
    "    \"Cultural and Diversity Celebration Emails\",\n",
    "    \"Market Insights and Stock Updates\",\n",
    "    \"Product Tutorials for Beginners\",\n",
    "    \"DIY Holiday Decoration Ideas\",\n",
    "    \"Fitness Challenges for Subscribers\",\n",
    "    \"Meet the Founders - Company Story\",\n",
    "    \"Behind-the-Scenes of New Projects\",\n",
    "    \"Real Estate Market Trends\",\n",
    "    \"Eco-Friendly Product Options\",\n",
    "    \"Exclusive Sneak Peek Previews\",\n",
    "    \"Monthly Book Club Suggestions\",\n",
    "    \"Charity and Fundraising Initiatives\",\n",
    "    \"Top Performing Stocks and Financial Tips\",\n",
    "    \"Local Events for Families\",\n",
    "    \"Social Media Highlights Recap\",\n",
    "    \"Subscription Renewal Reminders\",\n",
    "    \"Employee Health and Wellness Updates\",\n",
    "    \"How-To Guides for Recent Graduates\",\n",
    "    \"Influencer Collaboration Announcements\",\n",
    "    \"Customer Service Holiday Hours\",\n",
    "    \"Seasonal Fashion and Style Guide\",\n",
    "    \"Educational Resources for Students\",\n",
    "    \"Mental Health Awareness Tips\",\n",
    "    \"Gift Guide for Special Occasions\",\n",
    "    \"Pet Adoption and Rescue Spotlights\",\n",
    "    \"Financial Planning for Retirement\",\n",
    "    \"Home Decor Trends for the Season\",\n",
    "    \"User Testimonials and Reviews\",\n",
    "    \"Product Maintenance Tips and Tricks\",\n",
    "    \"Annual Conference or Expo Announcements\"\n",
    "]"
   ]
  },
  {
   "cell_type": "code",
   "execution_count": null,
   "id": "995fa34c-10a3-4126-9982-0107aedf4227",
   "metadata": {},
   "outputs": [],
   "source": []
  },
  {
   "cell_type": "code",
   "execution_count": 21,
   "id": "49601e6d-8307-404c-825b-7a5cc55de379",
   "metadata": {},
   "outputs": [],
   "source": [
    "prompts_rewrite=[\n",
    "    \"Rewrite the following email, enhancing clarity and engagement. Keep the core message the same but improve the language, make it more reader-friendly, and ensure the tone is warm and professional. Use concise language and add a friendly call-to-action at the end.\",\n",
    "    \"Revamp the following email with a fresh, creative perspective. Retain the main message, but introduce a more captivating tone, incorporating descriptive language, visual imagery, and an engaging flow. Make it feel dynamic and exciting to encourage readers to take action.\",\n",
    "    \"Rewrite the email to make it clear, concise, and easy to read. Focus on simplifying any complex language, reducing the length, and organizing key points for quick scanning. Keep the tone straightforward and professional, with an impactful call-to-action.\",\n",
    "    \"Rewrite the email in a friendly, conversational style. Aim for a tone that feels personal, approachable, and encouraging. Rephrase sentences to sound more casual while keeping all essential details, and include a warm closing message to make the reader feel appreciated.\",\n",
    "    \"Rewrite the email with a formal and professional tone. Focus on clear language, proper formatting, and polite phrasing suitable for a corporate or official audience. Maintain respect and formality throughout, with a polished closing statement.\"]"
   ]
  },
  {
   "cell_type": "code",
   "execution_count": 22,
   "id": "3f097017-4954-4aca-9cb0-485b1c656a19",
   "metadata": {},
   "outputs": [],
   "source": [
    "prompts_merge=[\n",
    "    \"Combine the following emails into a single, cohesive message. Focus on summarizing key points from each email to create a unified communication. Organize the information logically, keeping the tone consistent and engaging. End with a single call-to-action that applies to all topics covered.\",\n",
    "    \"Merge the following emails into one seamless narrative. Look for common themes or connections between each message and integrate them smoothly to create a story-like flow. Make sure the transitions between topics feel natural, and include a concluding section that ties all topics together.\",\n",
    "    \"Combine these emails into a structured, concise summary email. Group related information into sections or bullet points, and keep each section brief. Maintain a clear and professional tone, ensuring that each topic is easy to follow and that the email feels unified rather than separate pieces.\",\n",
    "    \"Create a single ‘digest’ email that combines the following emails, highlighting important updates and details from each. Use subheadings to introduce each section for clarity, and ensure each segment transitions smoothly into the next. Close the email with a general call-to-action or a brief summary of what readers should focus on.\",\n",
    "    \"Merge these emails into a single, customer-focused message. Rephrase to ensure a consistent tone, addressing the reader’s interests or needs throughout. Prioritize readability by using a conversational style and logical flow between topics, ending with a helpful call-to-action that ties everything together.\"\n",
    "]"
   ]
  },
  {
   "cell_type": "code",
   "execution_count": 23,
   "id": "3143c95e-7024-4cc4-b9f3-9602ab5baa59",
   "metadata": {},
   "outputs": [],
   "source": [
    "fewshot=[0,3]"
   ]
  },
  {
   "cell_type": "code",
   "execution_count": 24,
   "id": "ff90b360-7f00-4230-bba2-0e05eb19c3b2",
   "metadata": {},
   "outputs": [],
   "source": [
    "merge_emails = [2,3,4]"
   ]
  },
  {
   "cell_type": "code",
   "execution_count": 51,
   "id": "32445cdd-2a9f-4a46-96be-55588290940a",
   "metadata": {},
   "outputs": [],
   "source": [
    "nothing_else='Do not add any additional text, explanations, or notes. Don\\'t use any emoji, and don\\'t include a subject.'"
   ]
  },
  {
   "cell_type": "code",
   "execution_count": 26,
   "id": "85d0847d-9636-48f6-a76f-f8e09001de9b",
   "metadata": {},
   "outputs": [],
   "source": [
    "import random"
   ]
  },
  {
   "cell_type": "code",
   "execution_count": 52,
   "id": "63b32dfb-9af9-485e-bbc4-422685ad966d",
   "metadata": {},
   "outputs": [
    {
     "name": "stdout",
     "output_type": "stream",
     "text": [
      "rewrite\n"
     ]
    },
    {
     "name": "stderr",
     "output_type": "stream",
     "text": [
      " 20%|██████████████████████████████████████████████▉                                                                                                                                                                                         | 81/400 [05:55<25:11,  4.74s/it]"
     ]
    },
    {
     "name": "stdout",
     "output_type": "stream",
     "text": [
      "saving dico\n"
     ]
    },
    {
     "name": "stderr",
     "output_type": "stream",
     "text": [
      " 45%|████████████████████████████████████████████████████████████████████████████████████████████████████████▌                                                                                                                              | 181/400 [14:06<19:45,  5.41s/it]"
     ]
    },
    {
     "name": "stdout",
     "output_type": "stream",
     "text": [
      "saving dico\n"
     ]
    },
    {
     "name": "stderr",
     "output_type": "stream",
     "text": [
      " 70%|██████████████████████████████████████████████████████████████████████████████████████████████████████████████████████████████████████████████████████████████████▎                                                                    | 281/400 [24:17<11:20,  5.72s/it]"
     ]
    },
    {
     "name": "stdout",
     "output_type": "stream",
     "text": [
      "saving dico\n"
     ]
    },
    {
     "name": "stderr",
     "output_type": "stream",
     "text": [
      " 95%|████████████████████████████████████████████████████████████████████████████████████████████████████████████████████████████████████████████████████████████████████████████████████████████████████████████████████████████           | 381/400 [34:56<02:00,  6.34s/it]"
     ]
    },
    {
     "name": "stdout",
     "output_type": "stream",
     "text": [
      "saving dico\n"
     ]
    },
    {
     "name": "stderr",
     "output_type": "stream",
     "text": [
      "100%|███████████████████████████████████████████████████████████████████████████████████████████████████████████████████████████████████████████████████████████████████████████████████████████████████████████████████████████████████████| 400/400 [36:58<00:00,  5.55s/it]\n"
     ]
    },
    {
     "name": "stdout",
     "output_type": "stream",
     "text": [
      "merge\n"
     ]
    },
    {
     "name": "stderr",
     "output_type": "stream",
     "text": [
      " 20%|██████████████████████████████████████████████▍                                                                                                                                                                                         | 80/400 [14:21<37:59,  7.12s/it]"
     ]
    },
    {
     "name": "stdout",
     "output_type": "stream",
     "text": [
      "saving dico\n"
     ]
    },
    {
     "name": "stderr",
     "output_type": "stream",
     "text": [
      " 45%|████████████████████████████████████████████████████████████████████████████████████████████████████████▌                                                                                                                              | 181/400 [25:51<27:25,  7.51s/it]"
     ]
    },
    {
     "name": "stdout",
     "output_type": "stream",
     "text": [
      "saving dico\n"
     ]
    },
    {
     "name": "stderr",
     "output_type": "stream",
     "text": [
      " 70%|█████████████████████████████████████████████████████████████████████████████████████████████████████████████████████████████████████████████████████████████████▋                                                                     | 280/400 [41:54<19:43,  9.86s/it]"
     ]
    },
    {
     "name": "stdout",
     "output_type": "stream",
     "text": [
      "saving dico\n"
     ]
    },
    {
     "name": "stderr",
     "output_type": "stream",
     "text": [
      " 95%|███████████████████████████████████████████████████████████████████████████████████████████████████████████████████████████████████████████████████████████████████████████████████████████████████████████████████████████▍           | 380/400 [59:47<02:52,  8.60s/it]"
     ]
    },
    {
     "name": "stdout",
     "output_type": "stream",
     "text": [
      "saving dico\n"
     ]
    },
    {
     "name": "stderr",
     "output_type": "stream",
     "text": [
      "100%|█████████████████████████████████████████████████████████████████████████████████████████████████████████████████████████████████████████████████████████████████████████████████████████████████████████████████████████████████████| 400/400 [1:03:51<00:00,  9.58s/it]\n"
     ]
    },
    {
     "name": "stdout",
     "output_type": "stream",
     "text": [
      "generate\n"
     ]
    },
    {
     "name": "stderr",
     "output_type": "stream",
     "text": [
      " 20%|██████████████████████████████████████████████▍                                                                                                                                                                                         | 80/400 [06:14<24:10,  4.53s/it]"
     ]
    },
    {
     "name": "stdout",
     "output_type": "stream",
     "text": [
      "saving dico\n"
     ]
    },
    {
     "name": "stderr",
     "output_type": "stream",
     "text": [
      " 46%|██████████████████████████████████████████████████████████████████████████████████████████████████████████▎                                                                                                                            | 184/400 [14:08<16:01,  4.45s/it]"
     ]
    },
    {
     "name": "stdout",
     "output_type": "stream",
     "text": [
      "saving dico\n"
     ]
    },
    {
     "name": "stderr",
     "output_type": "stream",
     "text": [
      " 72%|█████████████████████████████████████████████████████████████████████████████████████████████████████████████████████████████████████████████████████████████████████▏                                                                 | 286/400 [24:00<11:03,  5.82s/it]"
     ]
    },
    {
     "name": "stdout",
     "output_type": "stream",
     "text": [
      "saving dico\n"
     ]
    },
    {
     "name": "stderr",
     "output_type": "stream",
     "text": [
      " 96%|██████████████████████████████████████████████████████████████████████████████████████████████████████████████████████████████████████████████████████████████████████████████████████████████████████████████████████████████▉        | 386/400 [32:48<01:14,  5.32s/it]"
     ]
    },
    {
     "name": "stdout",
     "output_type": "stream",
     "text": [
      "saving dico\n"
     ]
    },
    {
     "name": "stderr",
     "output_type": "stream",
     "text": [
      "100%|███████████████████████████████████████████████████████████████████████████████████████████████████████████████████████████████████████████████████████████████████████████████████████████████████████████████████████████████████████| 400/400 [34:37<00:00,  5.19s/it]\n"
     ]
    }
   ],
   "source": [
    "dicos_run=[]\n",
    "list_gen=[]\n",
    "max_rewrite=400\n",
    "max_merge=400\n",
    "max_gen=400\n",
    "for strategy in ['rewrite','merge','generate']:\n",
    "    print(strategy)\n",
    "    if strategy=='rewrite':\n",
    "        for i in tqdm(range(max_rewrite)):\n",
    "            prompt_to_use=prompts_rewrite[i%len(prompts_rewrite)]#random.choice(prompts_rewrite)\n",
    "            txt_input=txt_emails_to_use[i]\n",
    "            id_txt=ids_emails_to_use[i]\n",
    "            use_mimic=i>(max_rewrite/2)\n",
    "            if use_mimic:\n",
    "                mimic_txt=mimic_original+'\\n'.join(random.sample(txt_emails_to_use,3))\n",
    "            else:\n",
    "                mimic_txt=''\n",
    "            final_input='\\n'.join([prompt_to_use,txt_input,mimic_txt,nothing_else])\n",
    "            result=run_chatGPT(final_input)\n",
    "            list_gen+=[result.lower().replace(',','').replace('.','').replace('?','').replace(';','').replace('!','').replace('\\n','').replace('\\'','')]\n",
    "            dicos_run+=[{'strategy':strategy,'prompt_to_use':prompt_to_use,'use_mimic':use_mimic,'i':i,'id_txt':id_txt,'final_input':final_input,'result':result}]\n",
    "    if strategy=='merge':\n",
    "        for i in tqdm(range(max_merge)):\n",
    "            prompt_to_use=prompts_merge[i%len(prompts_merge)]#random.choice(prompts_rewrite)\n",
    "            nb_to_merge=random.choice([3,4,5])\n",
    "            index_to_use=random.sample(range(len(txt_emails_to_use)),nb_to_merge)\n",
    "            id_txt=[ids_emails_to_use[x] for x in index_to_use]\n",
    "            txt_input='\\n'.join([txt_emails_to_use[x] for x in index_to_use])\n",
    "            use_mimic=i>(max_merge/2)\n",
    "            if use_mimic:\n",
    "                mimic_txt=mimic_original+'\\n'.join(random.sample(txt_emails_to_use,3))\n",
    "            else:\n",
    "                mimic_txt=''\n",
    "            final_input='\\n'.join([prompt_to_use,txt_input,mimic_txt,nothing_else])\n",
    "            result=run_chatGPT(final_input)\n",
    "            list_gen+=[result.lower().replace(',','').replace('.','').replace('?','').replace(';','').replace('!','').replace('\\n','').replace('\\'','')]\n",
    "            dicos_run+=[{'strategy':strategy,'prompt_to_use':prompt_to_use,'nb_to_merge':nb_to_merge,'use_mimic':use_mimic,'i':i,'index_to_use':index_to_use,'id_txt':id_txt,'final_input':final_input,'result':result}]\n",
    "    if strategy=='generate':\n",
    "        for i in tqdm(range(max_gen)):\n",
    "            prompt_to_use=prompt_for_generate\n",
    "            #random_topic_prompt\n",
    "            theme_to_pick=random.choice(['related','universal'])\n",
    "            if theme_to_pick=='universal':\n",
    "                theme_txt=random.choice(additional_themes)\n",
    "            else:\n",
    "                theme_txt=random.choice(themes_gpt_related_emails)\n",
    "            subtheme_txt=random.choice(subthemes)\n",
    "            subtheme_txt=( subtheme_txt) if not subtheme_txt is None else ''\n",
    "            use_mimic=i>(max_gen/2)\n",
    "            if use_mimic:\n",
    "                mimic_txt=mimic_original+'\\n'.join(random.sample(txt_emails_to_use,3))\n",
    "            else:\n",
    "                mimic_txt=''\n",
    "            final_input='\\n'.join([prompt_to_use,random_topic_prompt+' : '+theme_txt+', '+subtheme_txt,mimic_txt,nothing_else])\n",
    "            result=run_chatGPT(final_input)\n",
    "            list_gen+=[result.lower().replace(',','').replace('.','').replace('?','').replace(';','').replace('!','').replace('\\n','').replace('\\'','')]\n",
    "            dicos_run+=[{'strategy':strategy,'prompt_to_use':prompt_to_use,'subtheme_txt':subtheme_txt,'theme_to_pick':theme_to_pick,'use_mimic':use_mimic,'i':i,'final_input':final_input,'result':result}]\n",
    "        "
   ]
  },
  {
   "cell_type": "code",
   "execution_count": null,
   "id": "0d005f7e-3ab2-4f96-ae52-4f4d70b948db",
   "metadata": {},
   "outputs": [],
   "source": [
    "list_gen"
   ]
  },
  {
   "cell_type": "code",
   "execution_count": null,
   "id": "653652ef-2b0f-4ae3-9ed2-caf870afe0c7",
   "metadata": {},
   "outputs": [],
   "source": [
    "f=open('dico_dump_gen_gpt_400.json','w')\n",
    "json.dump(dicos_run,f)\n",
    "f.close()"
   ]
  },
  {
   "cell_type": "code",
   "execution_count": null,
   "id": "cc9772e0-abce-49ca-8f72-b67289da5469",
   "metadata": {},
   "outputs": [],
   "source": [
    "f=open('list_gen_gpt_400.json','w')\n",
    "json.dump(list_gen,f)\n",
    "f.close()"
   ]
  },
  {
   "cell_type": "code",
   "execution_count": 50,
   "id": "3b3f9dbb-d06f-4910-a028-bb47bc211921",
   "metadata": {},
   "outputs": [
    {
     "data": {
      "text/plain": [
       "0"
      ]
     },
     "execution_count": 50,
     "metadata": {},
     "output_type": "execute_result"
    }
   ],
   "source": [
    "len([x for x in txt_emails_to_use if '\\'' in x])"
   ]
  },
  {
   "cell_type": "code",
   "execution_count": 45,
   "id": "75b91873-16b7-4226-bb41-eef5d544c825",
   "metadata": {},
   "outputs": [],
   "source": [
    "# txt_emails_to_use[:50]"
   ]
  },
  {
   "cell_type": "code",
   "execution_count": null,
   "id": "b350c3e6-98f8-45aa-b602-8bcd4dada987",
   "metadata": {},
   "outputs": [],
   "source": []
  }
 ],
 "metadata": {
  "kernelspec": {
   "display_name": "fev2env",
   "language": "python",
   "name": "fev2env"
  },
  "language_info": {
   "codemirror_mode": {
    "name": "ipython",
    "version": 3
   },
   "file_extension": ".py",
   "mimetype": "text/x-python",
   "name": "python",
   "nbconvert_exporter": "python",
   "pygments_lexer": "ipython3",
   "version": "3.10.11"
  }
 },
 "nbformat": 4,
 "nbformat_minor": 5
}
