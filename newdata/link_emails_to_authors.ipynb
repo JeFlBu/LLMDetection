{
 "cells": [
  {
   "cell_type": "code",
   "execution_count": 1,
   "id": "52e2ac1e-9e8c-471e-bc47-7d2f91ad5b79",
   "metadata": {},
   "outputs": [],
   "source": [
    "import pandas as pd\n",
    "import matplotlib.pyplot as plt\n",
    "import json\n",
    "import numpy as np\n",
    "import os\n",
    "from tqdm import tqdm"
   ]
  },
  {
   "cell_type": "code",
   "execution_count": 2,
   "id": "cc91c19c-aa3c-497d-a616-565df78b7936",
   "metadata": {},
   "outputs": [],
   "source": [
    "df_before = pd.read_parquet('before_gpt.parquet')\n",
    "\n",
    "df_after = pd.read_parquet('gpt_after.parquet')\n",
    "\n",
    "df_after_may=pd.read_parquet('from_may23.parquet')\n",
    "\n",
    "\n",
    "df_linking=pd.read_csv(\"similarweb_user_data_v2 (1).csv\")"
   ]
  },
  {
   "cell_type": "code",
   "execution_count": null,
   "id": "31230a25-60c5-4d47-bd12-754a8deb47c0",
   "metadata": {},
   "outputs": [],
   "source": []
  },
  {
   "cell_type": "code",
   "execution_count": null,
   "id": "d171164d-7c21-489c-9ac2-11b30826ba47",
   "metadata": {},
   "outputs": [],
   "source": []
  },
  {
   "cell_type": "code",
   "execution_count": 22,
   "id": "7ae7cb55-0c15-4580-8436-703736247475",
   "metadata": {},
   "outputs": [
    {
     "name": "stderr",
     "output_type": "stream",
     "text": [
      "100%|███████████████████████████████████████████████████████████████████████████████████████████████████████████████████████████████████████████████████████████████████████████████████████████████████████████████████████████████████| 20000/20000 [36:02<00:00,  9.25it/s]\n"
     ]
    }
   ],
   "source": [
    "# res_after_may=[]\n",
    "# for x in tqdm(list(df_after_may['unique_id'])):\n",
    "#     specific_key = x  # replace with the actual unique_id you want\n",
    "    \n",
    "#     # Filter df_linking to get the row corresponding to the specific key\n",
    "#     specific_row = df_linking[df_linking['unique_id'] == specific_key]\n",
    "    \n",
    "#     specific_row_dict = specific_row.to_dict('records')[0] if not specific_row.empty else None\n",
    "    \n",
    "#     res_after_may+=[specific_row_dict]\n"
   ]
  },
  {
   "cell_type": "code",
   "execution_count": 12,
   "id": "4439a3d2-4d75-4a5c-b9c8-6b9aaa3e4665",
   "metadata": {},
   "outputs": [],
   "source": []
  },
  {
   "cell_type": "code",
   "execution_count": 23,
   "id": "be109a69-dd9e-40f1-aa00-0e82269a87e8",
   "metadata": {},
   "outputs": [],
   "source": [
    "# f=open('res_detailed_res_after_may.json','w')\n",
    "# json.dump(res_after_may, f)\n",
    "# f.close()"
   ]
  },
  {
   "cell_type": "code",
   "execution_count": null,
   "id": "90fdc377-fcb7-431d-a58c-688eeba80e6d",
   "metadata": {},
   "outputs": [],
   "source": []
  },
  {
   "cell_type": "code",
   "execution_count": null,
   "id": "10147b67-c76c-47ce-8c26-5fd1bbdbfca6",
   "metadata": {},
   "outputs": [],
   "source": []
  },
  {
   "cell_type": "code",
   "execution_count": null,
   "id": "9237b51c-cc05-4cb2-bc38-b08e6fa60aec",
   "metadata": {},
   "outputs": [],
   "source": []
  },
  {
   "cell_type": "code",
   "execution_count": null,
   "id": "a7c8a15f-4373-42cb-8aaf-457f084eb900",
   "metadata": {},
   "outputs": [],
   "source": []
  },
  {
   "cell_type": "code",
   "execution_count": 37,
   "id": "7f242990-ad0e-4b98-9f65-490d0104bebf",
   "metadata": {},
   "outputs": [
    {
     "name": "stdout",
     "output_type": "stream",
     "text": [
      "/home/bussotti/experiments grazia clara the return/newdata/strategygenerate\n",
      "/home/bussotti/experiments grazia clara the return/newdata/strategyrewrite\n",
      "/home/bussotti/experiments grazia clara the return/newdata/strategymerge\n",
      "/home/bussotti/experiments grazia clara the return/newdata/strategyrewrite_merge_generate\n"
     ]
    }
   ],
   "source": [
    "\n",
    "current_dir = os.getcwd()\n",
    "\n",
    "# Iterate through each item in the current directory\n",
    "for item in os.listdir(current_dir):\n",
    "    item_path = os.path.join(current_dir, item)\n",
    "    if '.ipynb_checkpoints' in item_path:\n",
    "        continue\n",
    "    \n",
    "    if not os.path.exists(item_path+'/results_scores_email_from_may23_VARIANT061124_WITHPROB_TEMP2.json'):\n",
    "        continue\n",
    "    # Check if it's a directory\n",
    "    if not os.path.isdir(item_path):\n",
    "        continue\n",
    "    print(item_path)\n",
    "    \n",
    "    stats_res=dict()\n",
    "    for file_n in [item_path+'/results_scores_email_VARIANT061124_WITHPROB_TEMP2.json']:\n",
    "        # if os.path.exists(file_n.replace('.json','')+'stats_res.json'):\n",
    "        #     print('already done')\n",
    "        #     continue\n",
    "        stats_res[file_n]=dict()\n",
    "        f=open(file_n.replace('_VARIANT061124_WITHPROB_TEMP2.json','_from_may23_VARIANT061124_WITHPROB_TEMP2.json'))\n",
    "        tmp=json.load(f)['res']\n",
    "        f.close()\n",
    "        tmp_merge=[]\n",
    "        if not len(res_after_may)==len(tmp):\n",
    "            raise Exception\n",
    "        for elt_authors,elt_value in zip(res_after_may, tmp):\n",
    "            if not elt_authors is None:\n",
    "                elt_authors['value']=elt_value[1]\n",
    "                tmp_merge+=[elt_authors]\n",
    "            # else:\n",
    "            #     tmp_merge+=[{'other':'other','value':elt_value}]\n",
    "        # f=open(file_n.replace('_VARIANT061124_WITHPROB_TEMP2.json','_from_may23_VARIANT061124_WITHPROB_TEMP2_withemailsid')+'.json','w')\n",
    "        f=open(item_path+'/emails_from_may23_linked_withemailsid.json','w')\n",
    "        json.dump(tmp_merge,f)\n",
    "        f.close()\n",
    "\n",
    "        df = pd.DataFrame(tmp_merge)\n",
    "\n",
    "        # Define the CSV file name\n",
    "        # csv_file = file_n.replace('_VARIANT061124_WITHPROB_TEMP2.json','_from_may23_VARIANT061124_WITHPROB_TEMP2_withemailsid')+'.csv'\n",
    "        csv_file=item_path+'/emails_from_may23_linked_withemailsid.csv'\n",
    "        # Write DataFrame to CSV\n",
    "        df.to_csv(csv_file, index=False)\n",
    "\n",
    "\n",
    "        for key in tmp_merge[0].keys():\n",
    "            # name_to_use = file_n.replace('_VARIANT061124_WITHPROB_TEMP2.json','_from_may23_VARIANT061124_WITHPROB_TEMP2_withemailsid')+'_by'+key+'.json'\n",
    "            name_to_use=item_path+'/emails_from_may23_linked_withemailsid_by'+key+'.json'\n",
    "            dico_res=dict()\n",
    "            if key=='unique_id' or key=='value':\n",
    "                continue\n",
    "            for elt in tmp_merge:\n",
    "                if not elt[key] in dico_res.keys():\n",
    "                    dico_res[elt[key]]={'stats':dict(), 'values':[]}\n",
    "                dico_res[elt[key]]['values']+=[elt['value']]\n",
    "\n",
    "            for key_key in dico_res.keys():\n",
    "                \n",
    "                arr = np.array(dico_res[key_key]['values'])\n",
    "        \n",
    "                # Calculating statistics\n",
    "                mean = np.mean(arr)\n",
    "                std_dev = np.std(arr)\n",
    "                minimum = np.min(arr)\n",
    "                maximum = np.max(arr)\n",
    "                median = np.median(arr)\n",
    "                q1 = np.percentile(arr, 25)  # First quartile (25th percentile)\n",
    "                q3 = np.percentile(arr, 75)  # Third quartile (75th percentile)\n",
    "                \n",
    "                dico_res[key_key]['stats'][\"Mean\"]=mean\n",
    "                dico_res[key_key]['stats'][\"Standard Deviation\"]=std_dev\n",
    "                dico_res[key_key]['stats'][\"Min\"]=minimum\n",
    "                dico_res[key_key]['stats'][\"Max\"]=maximum\n",
    "                dico_res[key_key]['stats'][\"Median\"]=median\n",
    "                dico_res[key_key]['stats'][\"First Quartile (Q1)\"]= q1\n",
    "                dico_res[key_key]['stats'][\"Third Quartile (Q3)\"]= q3\n",
    "                dico_res[key_key]['stats'][\"Number items\"]= len(dico_res[key_key]['values'])\n",
    "            sorted_means = [[key_key, dico_res[key_key]['stats'][\"Mean\"],dico_res[key_key]['stats'][\"Standard Deviation\"],dico_res[key_key]['stats'][\"Number items\"]] for key_key in dico_res]\n",
    "\n",
    "            # Sort the list by the second item (Mean value)\n",
    "            sorted_means.sort(key=lambda x: x[1])\n",
    "            \n",
    "            f=open(name_to_use,'w')\n",
    "            json.dump({'dico':dico_res,'name_mean_deviation_nbitems':sorted_means},f)\n",
    "            f.close()\n",
    "        \n"
   ]
  },
  {
   "cell_type": "code",
   "execution_count": 11,
   "id": "118877f0-0b6b-4f84-91c0-8270aedd6a35",
   "metadata": {},
   "outputs": [],
   "source": [
    "# num_nat = df['year_month'].isna().sum()\n",
    "# print(\"Number of NaT values:\", num_nat)\n"
   ]
  },
  {
   "cell_type": "code",
   "execution_count": 27,
   "id": "7ad3ae52-99ab-48df-bf9e-82b88176784d",
   "metadata": {},
   "outputs": [
    {
     "data": {
      "text/plain": [
       "2"
      ]
     },
     "execution_count": 27,
     "metadata": {},
     "output_type": "execute_result"
    }
   ],
   "source": [
    "1+1"
   ]
  },
  {
   "cell_type": "code",
   "execution_count": 30,
   "id": "a99a52b5-bbc8-4eeb-b250-7f607faeca71",
   "metadata": {},
   "outputs": [
    {
     "data": {
      "text/plain": [
       "{'unique_id': '02bo3t9pdpv0no53mi0m0gtslp7vr9dgv5kflh01',\n",
       " 'email': 'raphael.rey@alchemymail.eu',\n",
       " 'website': 'indiewire.com',\n",
       " 'name': 'Raphael Rey',\n",
       " 'country': 'France',\n",
       " 'zip': 75020,\n",
       " 'age': 58,\n",
       " 'gender': 'Male',\n",
       " 'overall_cat': 'Arts',\n",
       " 'ov_subcat': 'Movies',\n",
       " 'value': 0.38261812925338745}"
      ]
     },
     "execution_count": 30,
     "metadata": {},
     "output_type": "execute_result"
    }
   ],
   "source": [
    "tmp_merge[0]"
   ]
  },
  {
   "cell_type": "code",
   "execution_count": null,
   "id": "b83273f4-285d-4788-960a-2ca729a54b44",
   "metadata": {},
   "outputs": [],
   "source": []
  }
 ],
 "metadata": {
  "kernelspec": {
   "display_name": "ForLLMLora August",
   "language": "python",
   "name": "forllmlora"
  },
  "language_info": {
   "codemirror_mode": {
    "name": "ipython",
    "version": 3
   },
   "file_extension": ".py",
   "mimetype": "text/x-python",
   "name": "python",
   "nbconvert_exporter": "python",
   "pygments_lexer": "ipython3",
   "version": "3.10.14"
  }
 },
 "nbformat": 4,
 "nbformat_minor": 5
}
