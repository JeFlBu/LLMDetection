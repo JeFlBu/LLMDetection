{
 "cells": [
  {
   "cell_type": "code",
   "execution_count": 5,
   "id": "908a8eea-dbd4-4827-a9fc-f6bdb8a27265",
   "metadata": {},
   "outputs": [
    {
     "name": "stdout",
     "output_type": "stream",
     "text": [
      "Created zip file: final_archive.zip\n"
     ]
    }
   ],
   "source": [
    "import os\n",
    "import zipfile\n",
    "\n",
    "import os\n",
    "import zipfile\n",
    "\n",
    "def zip_all_except_model_folders_specific_file_and_root_files(root_dir, output_zip):\n",
    "    with zipfile.ZipFile(output_zip, 'w', zipfile.ZIP_DEFLATED) as zipf:\n",
    "        # Walk through all directories and files in the root directory\n",
    "        for dirpath, dirnames, filenames in os.walk(root_dir):\n",
    "            # Skip the root directory files\n",
    "            if dirpath == root_dir:\n",
    "                continue\n",
    "\n",
    "            # Skip directories containing '_model' anywhere in the name\n",
    "            if 'fine_tune' in os.path.basename(dirpath):\n",
    "                continue\n",
    "\n",
    "            # Add files in subdirectories, excluding 'results_scores_email.json'\n",
    "            for file in filenames:\n",
    "                if '.json' in file and not 'stats_res' in file :\n",
    "                    continue  # Skip this specific file\n",
    "                \n",
    "                file_path = os.path.join(dirpath, file)\n",
    "                arcname = os.path.relpath(file_path, start=root_dir)  # Relative path for zip file\n",
    "                zipf.write(file_path, arcname)\n",
    "        \n",
    "        print(f\"Created zip file: {output_zip}\")\n",
    "\n",
    "# Set the root directory and output zip file path\n",
    "root_directory = '.'\n",
    "output_zip_path = 'final_archive.zip'\n",
    "zip_all_except_model_folders_specific_file_and_root_files(root_directory, output_zip_path)\n"
   ]
  },
  {
   "cell_type": "code",
   "execution_count": null,
   "id": "e92921ed-b00a-4377-bc13-cf542e073679",
   "metadata": {},
   "outputs": [],
   "source": []
  }
 ],
 "metadata": {
  "kernelspec": {
   "display_name": "Python 3 (ipykernel)",
   "language": "python",
   "name": "python3"
  },
  "language_info": {
   "codemirror_mode": {
    "name": "ipython",
    "version": 3
   },
   "file_extension": ".py",
   "mimetype": "text/x-python",
   "name": "python",
   "nbconvert_exporter": "python",
   "pygments_lexer": "ipython3",
   "version": "3.10.11"
  }
 },
 "nbformat": 4,
 "nbformat_minor": 5
}
