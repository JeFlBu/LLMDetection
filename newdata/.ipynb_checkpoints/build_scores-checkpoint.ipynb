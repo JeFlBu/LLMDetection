{
 "cells": [
  {
   "cell_type": "code",
   "execution_count": 1,
   "id": "2c9b7158-3e96-4c87-8443-be0f7f39d660",
   "metadata": {},
   "outputs": [
    {
     "name": "stdout",
     "output_type": "stream",
     "text": [
      "                                  unique_id  \\\n",
      "0  457u05pjd7kongfr0imdvcaq6rbmvssl1d7troo1   \n",
      "1  p1pe1prrd1pr4r6h5qdbatsvfqfi51ioa725cq01   \n",
      "2  ea595u17b5i8kfmd4mtlk9r6sk2bncbm052ddq01   \n",
      "3  7e4obgga3tv0adrgcro8hrggo4g9ulksol3d9qg1   \n",
      "4  5vipcmv6eqa27d1sdoekfmqeq8pon7hrk459h9g1   \n",
      "\n",
      "                                                body                 date  \\\n",
      "0  \\r\\n\\n--- mail_boundary ---\\n\\r\\n\\r\\n\\r\\n\\r\\n\\...  2022-10-26 09:44:03   \n",
      "1  \\r\\n\\n--- mail_boundary ---\\n\\r\\n\\r\\n\\r\\n\\r\\n\\...  2022-06-03 19:40:09   \n",
      "2  \\r\\n\\n--- mail_boundary ---\\n\\r\\n\\r\\n\\r\\n\\r\\n\\...  2022-09-28 17:01:51   \n",
      "3  Te acercamos los mejores destinos. \\r\\n\\r\\nÂ¿N...  2022-09-16 11:13:49   \n",
      "4  \\r\\n\\n--- mail_boundary ---\\n\\r\\n\\r\\n\\r\\n\\r\\n\\...  2022-11-21 13:44:02   \n",
      "\n",
      "                                        cleaned_text  \n",
      "0  mailboundary variety international breaking ne...  \n",
      "1  mailboundary variety breaking news view web ne...  \n",
      "2  mailboundary craft top line alert view web new...  \n",
      "3  te acercamos los mejores destinos puedes verlo...  \n",
      "4  mailboundary variety international breaking ne...  \n"
     ]
    }
   ],
   "source": [
    "import os\n",
    "import subprocess\n",
    "\n",
    "os.environ[\"CUDA_DEVICE_ORDER\"] = \"PCI_BUS_ID\"\n",
    "os.environ[\"CUDA_VISIBLE_DEVICES\"] = \"0\"\n",
    "\n",
    "import pandas as pd\n",
    "\n",
    "# Load a parquet file into a pandas DataFrame\n",
    "df_before = pd.read_parquet('before_gpt.parquet')\n",
    "\n",
    "# Display the first few rows of the dataframe\n",
    "print(df_before.head())\n"
   ]
  },
  {
   "cell_type": "code",
   "execution_count": 2,
   "id": "bb3f4004-8064-41c7-b6ea-3e45a78bfcae",
   "metadata": {},
   "outputs": [],
   "source": [
    "import json"
   ]
  },
  {
   "cell_type": "code",
   "execution_count": 3,
   "id": "3d90a968-1382-42fe-8079-f50c43cac0f5",
   "metadata": {},
   "outputs": [
    {
     "name": "stdout",
     "output_type": "stream",
     "text": [
      "                                  unique_id  \\\n",
      "0  vntuvfpps400cc0kb14qlurnosj9p1v3vj9k2vo1   \n",
      "1  gm4vbemkh43fnh30ci6b77ea9un1bif1chfsrso1   \n",
      "2  r011hs8euhvu386h06cna61vo4g9n7d6k2lji1o1   \n",
      "3  frkvs8h90ggdh9of2k3u34te7ne6bvc5ivo64n01   \n",
      "4  hfi844kdh4scql1b5uklslmf7ne6d98o8kmbt001   \n",
      "\n",
      "                                                body                 date  \n",
      "0  \\r\\n\\r\\nView this email in your browser (https...  2023-02-27 21:02:14  \n",
      "1  \\r\\n\\n--- mail_boundary ---\\n\\r\\n\\r\\n\\r\\n\\r\\n\\...  2023-04-06 00:07:07  \n",
      "2  <!DOCTYPE html><html xmlns:v=\"urn:schemas-micr...  2023-04-16 12:00:25  \n",
      "3  <!DOCTYPE html><html xmlns=\"http://www.w3.org/...  2022-12-15 21:31:24  \n",
      "4  Singer’s half-time performance built buzz for ...  2023-02-13 20:25:12  \n"
     ]
    }
   ],
   "source": [
    "df_after = pd.read_parquet('gpt_after.parquet')\n",
    "\n",
    "# Display the first few rows of the dataframe\n",
    "print(df_after.head())"
   ]
  },
  {
   "cell_type": "code",
   "execution_count": 4,
   "id": "7d98089d-fe39-4704-ad78-b77bf6068dad",
   "metadata": {},
   "outputs": [],
   "source": [
    "# pip install git+https://github.com/superannotateai/generated_text_detector.git@v1.0.0"
   ]
  },
  {
   "cell_type": "code",
   "execution_count": 5,
   "id": "a011583d-345e-4411-a415-ee8e3989a248",
   "metadata": {},
   "outputs": [
    {
     "name": "stderr",
     "output_type": "stream",
     "text": [
      "/home/bussotti/.conda/envs/ForLLMLora/lib/python3.10/site-packages/tqdm/auto.py:21: TqdmWarning: IProgress not found. Please update jupyter and ipywidgets. See https://ipywidgets.readthedocs.io/en/stable/user_install.html\n",
      "  from .autonotebook import tqdm as notebook_tqdm\n",
      "/home/bussotti/.conda/envs/ForLLMLora/lib/python3.10/site-packages/huggingface_hub/file_download.py:1150: FutureWarning: `resume_download` is deprecated and will be removed in version 1.0.0. Downloads always resume when possible. If you want to force a new download, use `force_download=True`.\n",
      "  warnings.warn(\n"
     ]
    },
    {
     "name": "stdout",
     "output_type": "stream",
     "text": [
      "0.9934840798377991\n"
     ]
    }
   ],
   "source": [
    "from generated_text_detector.utils.model.roberta_classifier import RobertaClassifier\n",
    "from transformers import AutoTokenizer\n",
    "import torch.nn.functional as F\n",
    "\n",
    "\n",
    "model = RobertaClassifier.from_pretrained(\"SuperAnnotate/roberta-large-llm-content-detector\")\n",
    "tokenizer = AutoTokenizer.from_pretrained(\"SuperAnnotate/roberta-large-llm-content-detector\")\n",
    "\n",
    "text_example = \"It's not uncommon for people to develop allergies or intolerances to certain foods as they get older. It's possible that you have always had a sensitivity to lactose (the sugar found in milk and other dairy products), but it only recently became a problem for you. This can happen because our bodies can change over time and become more or less able to tolerate certain things. It's also possible that you have developed an allergy or intolerance to something else that is causing your symptoms, such as a food additive or preservative. In any case, it's important to talk to a doctor if you are experiencing new allergy or intolerance symptoms, so they can help determine the cause and recommend treatment.\"\n",
    "\n",
    "tokens = tokenizer.encode_plus(\n",
    "    text_example,\n",
    "    add_special_tokens=True,\n",
    "    max_length=512,\n",
    "    padding='longest',\n",
    "    truncation=True,\n",
    "    return_token_type_ids=True,\n",
    "    return_tensors=\"pt\"\n",
    ")\n",
    "\n",
    "_, logits = model(**tokens)\n",
    "\n",
    "proba = F.sigmoid(logits).squeeze(1).item()\n",
    "\n",
    "print(proba)"
   ]
  },
  {
   "cell_type": "code",
   "execution_count": 5,
   "id": "d348c8d7-eda9-4e59-92f0-e51020efccbc",
   "metadata": {},
   "outputs": [],
   "source": [
    "# https://huggingface.co/SuperAnnotate/roberta-large-llm-content-detector"
   ]
  },
  {
   "cell_type": "code",
   "execution_count": 6,
   "id": "f7d26513-577d-41a3-af85-767956ace560",
   "metadata": {},
   "outputs": [
    {
     "name": "stdout",
     "output_type": "stream",
     "text": [
      "0.2031184434890747\n"
     ]
    }
   ],
   "source": [
    "\n",
    "text_example = \"Hello, I think Soup is good for the health.\"\n",
    "\n",
    "tokens = tokenizer.encode_plus(\n",
    "    text_example,\n",
    "    add_special_tokens=True,\n",
    "    max_length=512,\n",
    "    padding='longest',\n",
    "    truncation=True,\n",
    "    return_token_type_ids=True,\n",
    "    return_tensors=\"pt\"\n",
    ")\n",
    "\n",
    "_, logits = model(**tokens)\n",
    "\n",
    "proba = F.sigmoid(logits).squeeze(1).item()\n",
    "\n",
    "print(proba)"
   ]
  },
  {
   "cell_type": "code",
   "execution_count": null,
   "id": "7535c063-dbac-4088-91f7-b4592f68309f",
   "metadata": {},
   "outputs": [],
   "source": [
    "1+1"
   ]
  },
  {
   "cell_type": "code",
   "execution_count": 7,
   "id": "d3e62b8c-a281-455b-b80d-f3ffcd925fd2",
   "metadata": {},
   "outputs": [],
   "source": [
    "from tqdm import tqdm"
   ]
  },
  {
   "cell_type": "code",
   "execution_count": 12,
   "id": "2bdc5b3c-f134-4cef-a03e-f5550c9d08a8",
   "metadata": {},
   "outputs": [
    {
     "name": "stderr",
     "output_type": "stream",
     "text": [
      "100%|███████████████████████████████████████████████████████████████████████████████| 1500/1500 [17:20<00:00,  1.44it/s]\n"
     ]
    }
   ],
   "source": [
    "all_vals_after=[]\n",
    "for elt in tqdm(list(df_after['body'].values)):\n",
    "\n",
    "    tokens = tokenizer.encode_plus(\n",
    "        elt,\n",
    "        add_special_tokens=True,\n",
    "        max_length=512,\n",
    "        padding='longest',\n",
    "        truncation=True,\n",
    "        return_token_type_ids=True,\n",
    "        return_tensors=\"pt\"\n",
    "    )\n",
    "    \n",
    "    _, logits = model(**tokens)\n",
    "    \n",
    "    proba = F.sigmoid(logits).squeeze(1).item()\n",
    "    \n",
    "    all_vals_after+=[proba]"
   ]
  },
  {
   "cell_type": "code",
   "execution_count": 13,
   "id": "d88fc611-26cb-4f51-8e09-77a1ecd767a8",
   "metadata": {},
   "outputs": [
    {
     "name": "stderr",
     "output_type": "stream",
     "text": [
      "100%|███████████████████████████████████████████████████████████████████████████████| 1500/1500 [17:16<00:00,  1.45it/s]\n"
     ]
    }
   ],
   "source": [
    "all_vals_before=[]\n",
    "for elt in tqdm(list(df_before['body'].values)):\n",
    "\n",
    "    tokens = tokenizer.encode_plus(\n",
    "        elt,\n",
    "        add_special_tokens=True,\n",
    "        max_length=512,\n",
    "        padding='longest',\n",
    "        truncation=True,\n",
    "        return_token_type_ids=True,\n",
    "        return_tensors=\"pt\"\n",
    "    )\n",
    "    \n",
    "    _, logits = model(**tokens)\n",
    "    \n",
    "    proba = F.sigmoid(logits).squeeze(1).item()\n",
    "    \n",
    "    all_vals_before+=[proba]"
   ]
  },
  {
   "cell_type": "code",
   "execution_count": 14,
   "id": "8729fa2c-43d0-4804-badd-77a9b4f5e3d5",
   "metadata": {},
   "outputs": [
    {
     "data": {
      "text/plain": [
       "0.30294981060394394"
      ]
     },
     "execution_count": 14,
     "metadata": {},
     "output_type": "execute_result"
    }
   ],
   "source": [
    "sum(all_vals_before)/len(all_vals_before)"
   ]
  },
  {
   "cell_type": "code",
   "execution_count": 15,
   "id": "5cd107b0-a2e7-474f-930c-202e7497ad44",
   "metadata": {},
   "outputs": [
    {
     "data": {
      "text/plain": [
       "0.3241289549204521"
      ]
     },
     "execution_count": 15,
     "metadata": {},
     "output_type": "execute_result"
    }
   ],
   "source": [
    "sum(all_vals_after)/len(all_vals_after)"
   ]
  },
  {
   "cell_type": "code",
   "execution_count": 16,
   "id": "43eb8a9a-c150-448e-9d7d-3cd506a42176",
   "metadata": {},
   "outputs": [
    {
     "name": "stdout",
     "output_type": "stream",
     "text": [
      "Mean: 0.30294981060394394\n",
      "Standard Deviation: 0.22103430332247478\n",
      "Min: 0.003726685419678688\n",
      "Max: 0.8351850509643555\n",
      "Median: 0.2622634470462799\n",
      "First Quartile (Q1): 0.09857369773089886\n",
      "Third Quartile (Q3): 0.45239486545324326\n"
     ]
    }
   ],
   "source": [
    "import numpy as np\n",
    "\n",
    "# Example array of floats\n",
    "arr = np.array(all_vals_before)\n",
    "\n",
    "# Calculating statistics\n",
    "mean = np.mean(arr)\n",
    "std_dev = np.std(arr)\n",
    "minimum = np.min(arr)\n",
    "maximum = np.max(arr)\n",
    "median = np.median(arr)\n",
    "q1 = np.percentile(arr, 25)  # First quartile (25th percentile)\n",
    "q3 = np.percentile(arr, 75)  # Third quartile (75th percentile)\n",
    "\n",
    "# Printing the statistics\n",
    "print(f\"Mean: {mean}\")\n",
    "print(f\"Standard Deviation: {std_dev}\")\n",
    "print(f\"Min: {minimum}\")\n",
    "print(f\"Max: {maximum}\")\n",
    "print(f\"Median: {median}\")\n",
    "print(f\"First Quartile (Q1): {q1}\")\n",
    "print(f\"Third Quartile (Q3): {q3}\")\n"
   ]
  },
  {
   "cell_type": "code",
   "execution_count": 17,
   "id": "051ed4c9-7850-4150-a565-e9d73b820420",
   "metadata": {},
   "outputs": [
    {
     "name": "stdout",
     "output_type": "stream",
     "text": [
      "Mean: 0.3241289549204521\n",
      "Standard Deviation: 0.23059554954090966\n",
      "Min: 0.0034429740626364946\n",
      "Max: 0.845650851726532\n",
      "Median: 0.2946487218141556\n",
      "First Quartile (Q1): 0.09806553833186626\n",
      "Third Quartile (Q3): 0.4628647416830063\n"
     ]
    }
   ],
   "source": [
    "import numpy as np\n",
    "\n",
    "# Example array of floats\n",
    "arr = np.array(all_vals_after)\n",
    "\n",
    "# Calculating statistics\n",
    "mean = np.mean(arr)\n",
    "std_dev = np.std(arr)\n",
    "minimum = np.min(arr)\n",
    "maximum = np.max(arr)\n",
    "median = np.median(arr)\n",
    "q1 = np.percentile(arr, 25)  # First quartile (25th percentile)\n",
    "q3 = np.percentile(arr, 75)  # Third quartile (75th percentile)\n",
    "\n",
    "# Printing the statistics\n",
    "print(f\"Mean: {mean}\")\n",
    "print(f\"Standard Deviation: {std_dev}\")\n",
    "print(f\"Min: {minimum}\")\n",
    "print(f\"Max: {maximum}\")\n",
    "print(f\"Median: {median}\")\n",
    "print(f\"First Quartile (Q1): {q1}\")\n",
    "print(f\"Third Quartile (Q3): {q3}\")"
   ]
  },
  {
   "cell_type": "code",
   "execution_count": 44,
   "id": "05358c23-246c-4463-abf6-5ebef84e2049",
   "metadata": {},
   "outputs": [
    {
     "name": "stderr",
     "output_type": "stream",
     "text": [
      "100%|███████████████████████████████████████████████████████████████████████████████| 1500/1500 [10:51<00:00,  2.30it/s]"
     ]
    },
    {
     "name": "stdout",
     "output_type": "stream",
     "text": [
      "Mean: 0.2082264408605794\n",
      "Standard Deviation: 0.08426265084890672\n",
      "Min: 0.01870107464492321\n",
      "Max: 0.5451889038085938\n",
      "Median: 0.19520968198776245\n",
      "First Quartile (Q1): 0.1446339413523674\n",
      "Third Quartile (Q3): 0.2638164237141609\n"
     ]
    },
    {
     "name": "stderr",
     "output_type": "stream",
     "text": [
      "\n"
     ]
    }
   ],
   "source": [
    "all_vals_before_clean=[]\n",
    "for elt in tqdm(list(df_before['cleaned_text'].values)):\n",
    "\n",
    "    tokens = tokenizer.encode_plus(\n",
    "        elt,\n",
    "        add_special_tokens=True,\n",
    "        max_length=512,\n",
    "        padding='longest',\n",
    "        truncation=True,\n",
    "        return_token_type_ids=True,\n",
    "        return_tensors=\"pt\"\n",
    "    )\n",
    "    \n",
    "    _, logits = model(**tokens)\n",
    "    \n",
    "    proba = F.sigmoid(logits).squeeze(1).item()\n",
    "    \n",
    "    all_vals_before_clean+=[proba]\n",
    "\n",
    "# Example array of floats\n",
    "arr = np.array(all_vals_before_clean)\n",
    "\n",
    "# Calculating statistics\n",
    "mean = np.mean(arr)\n",
    "std_dev = np.std(arr)\n",
    "minimum = np.min(arr)\n",
    "maximum = np.max(arr)\n",
    "median = np.median(arr)\n",
    "q1 = np.percentile(arr, 25)  # First quartile (25th percentile)\n",
    "q3 = np.percentile(arr, 75)  # Third quartile (75th percentile)\n",
    "\n",
    "# Printing the statistics\n",
    "print(f\"Mean: {mean}\")\n",
    "print(f\"Standard Deviation: {std_dev}\")\n",
    "print(f\"Min: {minimum}\")\n",
    "print(f\"Max: {maximum}\")\n",
    "print(f\"Median: {median}\")\n",
    "print(f\"First Quartile (Q1): {q1}\")\n",
    "print(f\"Third Quartile (Q3): {q3}\")"
   ]
  },
  {
   "cell_type": "code",
   "execution_count": null,
   "id": "44791d23-18f1-4e3d-8558-b9328d488590",
   "metadata": {},
   "outputs": [],
   "source": []
  },
  {
   "cell_type": "code",
   "execution_count": 19,
   "id": "56b78239-0b00-45c5-9ab0-c489053d31be",
   "metadata": {},
   "outputs": [
    {
     "name": "stderr",
     "output_type": "stream",
     "text": [
      "100%|███████████████████████████████████████████████████████████████████████████████████| 89/89 [00:12<00:00,  7.35it/s]"
     ]
    },
    {
     "name": "stdout",
     "output_type": "stream",
     "text": [
      "Mean: 0.9756222434258193\n",
      "Standard Deviation: 0.016819387305327824\n",
      "Min: 0.9199140667915344\n",
      "Max: 0.9931706190109253\n",
      "Median: 0.9806826114654541\n",
      "First Quartile (Q1): 0.9725339412689209\n",
      "Third Quartile (Q3): 0.9871277809143066\n"
     ]
    },
    {
     "name": "stderr",
     "output_type": "stream",
     "text": [
      "\n"
     ]
    }
   ],
   "source": [
    "text_gpt='''\n",
    "The shimmering sea extended far beyond the horizon, its waves crashing gently against the golden sands, while the salty breeze carried the scent of distant lands across the shore.\n",
    "\n",
    "In the quiet stillness of the ancient forest, the only sound was the whisper of the wind through the towering trees, their leaves dancing to an unseen rhythm as if nature itself were in conversation.\n",
    "\n",
    "The old, ivy-covered castle stood on the hill, a testament to centuries of history, its crumbling stone walls and weathered battlements whispering tales of forgotten battles and noble kings long passed.\n",
    "\n",
    "Beneath the twinkling stars, the vast desert stretched endlessly, the cool night air offering respite from the scorching heat of the day as the dunes rolled like frozen waves beneath the moonlight.\n",
    "\n",
    "The city skyline, a jagged silhouette against the pink and orange hues of the setting sun, pulsed with life, its streets filled with the hum of cars and the laughter of people rushing to their evening destinations.\n",
    "\n",
    "High in the mountains, the narrow path wound its way through jagged rocks and snow-covered peaks, where the air was thin and crisp, and the world below seemed distant and small.\n",
    "\n",
    "She sat in the quiet café, the soft glow of a single candle flickering on the table, her fingers tracing the rim of her coffee cup as she gazed out at the rain softly pattering against the window.\n",
    "\n",
    "The massive library, with its towering bookshelves stretching from floor to ceiling, was a sanctuary of knowledge, each book holding within it a world waiting to be explored by curious minds.\n",
    "\n",
    "The gentle hum of the spacecraft's engines was the only sound as it drifted through the vast, empty expanse of space, stars twinkling like diamonds against the velvet-black backdrop of the universe.\n",
    "\n",
    "Beneath the waves, the vibrant coral reef teemed with life, fish of every color darting between the rocks and plants, while the sunlight filtered down through the water, casting shimmering patterns on the ocean floor.\n",
    "\n",
    "In the bustling marketplace, the air was thick with the scent of spices, freshly baked bread, and sizzling meats, as vendors called out to passersby, their stalls overflowing with vibrant fabrics, trinkets, and exotic goods.\n",
    "\n",
    "The towering skyscraper, a feat of modern engineering, loomed over the city, its glass windows reflecting the clouds that drifted lazily by, while inside, workers moved with purpose through its vast corridors.\n",
    "\n",
    "The dense jungle, alive with the sounds of birds, insects, and the rustling of leaves, was a world unto itself, where every step taken could reveal a new discovery or an unseen danger lurking just out of sight.\n",
    "\n",
    "The old clock tower stood at the center of the town square, its hands frozen in place, a relic of a time long past, while around it, life continued in its endless, ever-changing rhythm.\n",
    "\n",
    "The soft glow of the campfire flickered in the night, casting long shadows on the surrounding trees, as the group huddled close, sharing stories under the blanket of stars that stretched across the sky.\n",
    "\n",
    "Deep in the underground cavern, the sound of dripping water echoed off the walls, while the stalagmites and stalactites, shaped by centuries of slow growth, stood like silent guardians of the earth’s hidden secrets.\n",
    "\n",
    "The wind howled through the narrow canyon, whipping up dust and sand as it passed, while the jagged rock walls, carved by millennia of erosion, stood tall and unyielding against the force of nature.\n",
    "\n",
    "In the quiet museum gallery, the paintings hung like windows into other worlds, each brushstroke telling a story, while the soft footsteps of visitors echoed through the vast, echoing halls.\n",
    "\n",
    "The river wound its way through the valley, its waters calm and clear, reflecting the sky above, while the surrounding mountains stood tall and silent, their snow-capped peaks touching the clouds.\n",
    "\n",
    "The ancient temple, hidden deep in the jungle, was overgrown with vines and moss, its once-grand halls now crumbling and forgotten, though the air inside still seemed to hum with the power of the gods.\n",
    "\n",
    "The sleek, modern train hurtled through the countryside, the landscape blurring past in a streak of green and gold, while inside, passengers sat in quiet comfort, lost in their own thoughts.\n",
    "\n",
    "On the windswept moor, the lone cottage stood isolated and small against the vast, open landscape, its stone walls weathered by years of exposure to the elements, while smoke curled lazily from its chimney.\n",
    "\n",
    "The city streets were alive with energy, neon signs flickering in the darkness, while the constant hum of traffic and the distant sounds of music and laughter created a symphony of urban life.\n",
    "\n",
    "The old ship creaked as it rocked gently in the harbor, its sails furled and its decks quiet, while gulls wheeled overhead, their cries echoing through the salty air.\n",
    "\n",
    "In the dimly lit laboratory, the scientist worked late into the night, her hands steady as she carefully adjusted the delicate instruments, her mind racing with the possibilities of her latest discovery.\n",
    "\n",
    "The grand ballroom was filled with the sound of music and laughter, the chandeliers overhead casting a soft, golden light on the dancers as they twirled and swayed to the rhythm of the orchestra.\n",
    "\n",
    "Beneath the thick canopy of the rainforest, the air was heavy with humidity and the scent of earth and growing things, while the distant call of howler monkeys echoed through the trees.\n",
    "\n",
    "The small, sleepy town, nestled in the rolling hills, seemed untouched by time, its cobblestone streets and quaint cottages a picturesque reminder of simpler days gone by.\n",
    "\n",
    "The lighthouse stood tall and proud on the rocky cliff, its beam cutting through the thick fog that rolled in from the sea, guiding ships safely to harbor through the treacherous waters below.\n",
    "\n",
    "In the crowded marketplace, the scent of freshly cut flowers mingled with the aroma of roasting chestnuts, as people bustled between stalls, haggling over prices and exchanging smiles with familiar faces.\n",
    "\n",
    "The sprawling vineyard stretched out as far as the eye could see, rows of grapevines heavy with fruit, while the sun bathed the landscape in a warm, golden light, promising a bountiful harvest.\n",
    "\n",
    "High above the city, the rooftop garden was an oasis of calm, filled with the scent of blooming flowers and the gentle sound of trickling water, offering a moment of peace amid the urban chaos.\n",
    "\n",
    "The narrow cobblestone alley wound its way through the heart of the old city, its walls covered in ivy and graffiti, while the faint sound of a street musician playing a violin drifted through the air.\n",
    "\n",
    "The towering redwoods, ancient and majestic, stretched high into the sky, their trunks as wide as houses, while the forest floor below was carpeted in ferns and fallen needles, silent but alive.\n",
    "\n",
    "In the heart of the bustling metropolis, the old theater stood as a forgotten relic of a bygone era, its marquee lights long dimmed, though inside, the velvet curtains and faded seats still held the echoes of countless performances.\n",
    "\n",
    "The storm clouds gathered ominously on the horizon, their dark, swirling forms casting a shadow over the landscape, while the air grew thick with the promise of rain and the distant rumble of thunder.\n",
    "\n",
    "On the frozen tundra, the icy wind howled across the vast expanse of snow and ice, while the sun hung low in the sky, casting a cold, pale light on the desolate landscape.\n",
    "\n",
    "The narrow mountain road twisted and turned precariously along the edge of the cliff, the drop below disappearing into a thick blanket of fog, while the distant sound of a waterfall roared through the valley.\n",
    "\n",
    "The small fishing village, perched on the edge of the rocky coastline, was a picture of tranquility, with its brightly colored boats bobbing gently in the harbor and the distant cry of seagulls filling the air.\n",
    "\n",
    "The ancient ruins, half-buried in the sand, were all that remained of a once-great civilization, their stone walls carved with intricate designs that told stories of gods and heroes long forgotten.\n",
    "\n",
    "The bustling café was filled with the chatter of people and the clinking of coffee cups, while the rich aroma of freshly brewed espresso filled the air, offering a moment of warmth on a cold, rainy afternoon.\n",
    "\n",
    "The massive glacier, its surface glittering in the sunlight, creaked and groaned as it slowly inched its way down the valley, carving the landscape in its wake, a reminder of the earth's slow, powerful forces.\n",
    "\n",
    "In the heart of the jungle, the waterfall cascaded down from a towering cliff, its waters crashing into the pool below with a deafening roar, while the mist rose up in a cool, refreshing spray.\n",
    "\n",
    "The grand cathedral, with its soaring arches and stained glass windows, was a marvel of gothic architecture, its interior filled with the soft glow of candlelight and the hushed whispers of those seeking solace.\n",
    "\n",
    "The dense fog rolled in from the sea, blanketing the coastal town in a thick, white veil, while the sound of the foghorn echoed eerily through the mist, guiding ships safely to shore.\n",
    "\n",
    "The quiet meadow, bathed in the golden light of the setting sun, was a peaceful retreat, with wildflowers swaying gently in the breeze and the distant hum of bees filling the air.\n",
    "\n",
    "The narrow streets of the ancient city wound through a labyrinth of towering stone buildings, their facades weathered by time, while the smell of baking bread and fresh herbs filled the air.\n",
    "\n",
    "The spacecraft, a sleek, silver vessel, drifted silently through the void, its destination unknown, while inside, the crew prepared for a journey that would take them farther from home than any human had ever gone before.\n",
    "\n",
    "The vast savannah stretched endlessly toward the horizon, the golden grass swaying gently in the wind as a herd of elephants moved slowly across the landscape, their silhouettes majestic against the setting sun.\n",
    "\n",
    "The quiet suburban street, lined with neatly trimmed lawns and identical houses, was bathed in the soft glow of the streetlights as evening settled in, while the distant sound of children’s laughter echoed faintly.\n",
    "\n",
    "The towering cliffs rose steeply from the edge of the ocean, their jagged faces battered by the relentless waves, while seagulls soared effortlessly above, their cries lost in the roar of the sea below.\n",
    "\n",
    "In the heart of the bustling city, the underground subway station was alive with the sound of trains screeching to a halt and the hurried footsteps of commuters, their faces illuminated by the harsh fluorescent lights.\n",
    "\n",
    "The small island, surrounded by crystal-clear turquoise waters, was a tropical paradise, its palm trees swaying gently in the breeze, while the scent of salt and flowers mingled in the warm air.\n",
    "\n",
    "The ancient oak tree stood alone in the center of the field, its gnarled branches twisting toward the sky, a silent witness to the passage of time and the changing seasons that had come and gone for centuries.\n",
    "\n",
    "The bustling airport terminal was a whirlwind of activity, with travelers rushing to catch flights, the sound of announcements echoing overhead, and the distant rumble of planes taking off and landing on the runway outside.\n",
    "\n",
    "In the heart of the desert, the oasis shimmered like a mirage, its cool waters surrounded by lush palms and vibrant greenery, offering a refuge from the scorching heat and the endless expanse of sand.\n",
    "\n",
    "The towering snow-capped mountain loomed in the distance, its peak hidden by clouds, while the valley below was dotted with quaint villages and winding rivers, a peaceful scene in the shadow of nature’s grandeur.\n",
    "\n",
    "The crowded city market, alive with vibrant colors and the scent of exotic spices, bustled with energy as vendors called out to shoppers, offering fruits, vegetables, fabrics, and hand-crafted goods from all corners of the world.\n",
    "\n",
    "The narrow country road wound its way through rolling hills and pastures, the distant sound of cows lowing and birds chirping creating a peaceful soundtrack as the sun set over the horizon, painting the sky in shades of orange and pink.\n",
    "\n",
    "In the small mountain village, nestled high in the Alps, the sound of church bells echoed through the crisp morning air, while the villagers went about their daily routines, their breath visible in the cold, clear air.\n",
    "\n",
    "The shimmering aurora danced across the night sky, its ribbons of green, purple, and blue illuminating the frozen landscape below, casting an ethereal glow on the snow-covered trees and ice-coated lakes.\n",
    "\n",
    "The grand concert hall was filled with the sound of a symphony orchestra tuning their instruments, the anticipation in the air palpable as the audience waited in hushed excitement for the performance to begin.\n",
    "\n",
    "The quiet beach, far from the hustle and bustle of the city, was a peaceful retreat, with the soft sound of the waves lapping against the shore and the gentle rustle of the wind through the tall grasses that lined the dunes.\n",
    "\n",
    "The ancient cobblestone streets of the medieval town wound through narrow alleys and past towering stone buildings, their weathered facades telling the story of centuries of history, while the sound of church bells rang in the distance.\n",
    "\n",
    "The sprawling mansion, hidden behind tall iron gates and surrounded by manicured gardens, was a picture of opulence, its grand rooms filled with priceless artwork, crystal chandeliers, and antique furniture from a bygone era.\n",
    "\n",
    "The dense fog clung to the ground in the early morning, wrapping the landscape in a soft, white blanket, while the distant sound of a train whistle echoed through the stillness, a reminder of the world beyond the mist.\n",
    "\n",
    "The warm glow of the fireplace cast flickering shadows on the walls of the cozy cabin, while outside, the snow fell softly, blanketing the world in a quiet stillness that seemed to slow time itself.\n",
    "\n",
    "The rugged coastline, with its steep cliffs and crashing waves, was a place of wild beauty, where the forces of nature collided in a symphony of sound and movement, shaping the landscape with each passing storm.\n",
    "\n",
    "The old stone bridge, arching gracefully over the river, had stood for centuries, its weathered stones worn smooth by the passage of countless travelers, while the water below rushed endlessly toward the sea.\n",
    "\n",
    "In the heart of the dense forest, a hidden waterfall cascaded down a moss-covered cliff, its clear waters pooling into a crystal-clear basin below, a serene and untouched sanctuary far from the noise of the outside world.\n",
    "\n",
    "The grand library, with its towering shelves and endless rows of books, was a refuge for the curious and the learned, a place where the stories and knowledge of generations were preserved for those who sought them.\n",
    "\n",
    "The sun dipped below the horizon, casting a warm golden glow over the landscape, while the sky above transitioned from deep blue to a soft purple, the first stars beginning to twinkle in the fading light.\n",
    "\n",
    "The small fishing boat bobbed gently on the calm waters of the bay, its nets cast into the sea, while the fishermen sat quietly, watching the horizon for signs of a catch as the sun rose slowly in the east.\n",
    "\n",
    "The ancient cathedral stood tall in the heart of the city, its gothic spires reaching toward the sky, while inside, the sound of the choir filled the vast, echoing space with the haunting beauty of their voices.\n",
    "\n",
    "The quiet meadow, surrounded by dense woods, was a hidden gem, its wildflowers swaying gently in the breeze, while a small stream wound its way through the grass, offering a peaceful retreat from the world beyond.\n",
    "\n",
    "The bustling port city was alive with activity, its docks filled with ships from distant lands, while sailors, merchants, and travelers moved about in a constant flurry of motion, the air thick with the smell of salt and trade.\n",
    "\n",
    "The lone traveler stood at the edge of the cliff, gazing out over the vast ocean below, where the waves crashed against the rocks far below, a reminder of the power and majesty of the natural world.\n",
    "\n",
    "The quiet village, nestled in the valley below, was a peaceful scene of quaint cottages and winding roads, while the distant sound of church bells rang out, calling the villagers to their morning prayers.\n",
    "\n",
    "The sleek, modern cityscape rose from the desert like a mirage, its glass towers gleaming in the sunlight, while below, the streets buzzed with the energy of a metropolis constantly on the move.\n",
    "\n",
    "The towering sand dunes of the desert shifted and changed with each gust of wind, their golden slopes rising and falling like waves in an ocean of sand, while the heat of the day shimmered on the horizon.\n",
    "\n",
    "The small, cozy café on the corner of the busy street was a refuge from the chaos outside, its warm lighting and soft music offering a moment of calm to those who stopped in for a cup of coffee and a quiet conversation.\n",
    "\n",
    "The vast, empty plain stretched out before them, the grass rustling in the breeze, while in the distance, a herd of wild horses ran freely, their manes flowing in the wind as they galloped across the open land.\n",
    "\n",
    "The narrow, winding road through the mountains was a perilous journey, with steep drops and sharp turns, but the view from the summit was breathtaking, with the entire valley spread out below like a living painting.\n",
    "\n",
    "The ancient marketplace, with its stone arches and bustling stalls, had stood for centuries, a place where merchants and travelers from all corners of the world gathered to trade goods, stories, and culture.\n",
    "\n",
    "The sound of the waves crashing against the rocky shore echoed through the cliffs, while the salty sea air filled their lungs, a reminder of the wild, untamed beauty of the coastal landscape.\n",
    "\n",
    "The small, secluded cabin in the woods was a place of solitude, its rough wooden walls and stone fireplace offering a warm retreat from the cold, while outside, the snow continued to fall in thick, silent flakes.\n",
    "\n",
    "The sprawling vineyard, with its rows of grapevines heavy with fruit, was a place of peace and hard work, where the rhythms of nature dictated the pace of life and the promise of a good harvest was always on the horizon.\n",
    "\n",
    "The towering redwoods, ancient and majestic, created a canopy so dense that the sunlight barely filtered through, casting the forest floor in a perpetual twilight, where the air was thick with the scent of pine and earth.\n",
    "\n",
    "The old lighthouse stood alone on the rocky promontory, its beam sweeping out over the dark, stormy sea, a solitary beacon of hope and safety for the ships that braved the treacherous waters below.\n",
    "'''\n",
    "text_gpt=[x for x in text_gpt.split('\\n') if len(x)>2]\n",
    "text_gpt_l=[]\n",
    "for elt in tqdm(list(text_gpt)):\n",
    "\n",
    "    tokens = tokenizer.encode_plus(\n",
    "        elt,\n",
    "        add_special_tokens=True,\n",
    "        max_length=512,\n",
    "        padding='longest',\n",
    "        truncation=True,\n",
    "        return_token_type_ids=True,\n",
    "        return_tensors=\"pt\"\n",
    "    )\n",
    "    \n",
    "    _, logits = model(**tokens)\n",
    "    \n",
    "    proba = F.sigmoid(logits).squeeze(1).item()\n",
    "    \n",
    "    text_gpt_l+=[proba]\n",
    "\n",
    "\n",
    "import numpy as np\n",
    "\n",
    "# Example array of floats\n",
    "arr = np.array(text_gpt_l)\n",
    "\n",
    "# Calculating statistics\n",
    "mean = np.mean(arr)\n",
    "std_dev = np.std(arr)\n",
    "minimum = np.min(arr)\n",
    "maximum = np.max(arr)\n",
    "median = np.median(arr)\n",
    "q1 = np.percentile(arr, 25)  # First quartile (25th percentile)\n",
    "q3 = np.percentile(arr, 75)  # Third quartile (75th percentile)\n",
    "\n",
    "# Printing the statistics\n",
    "print(f\"Mean: {mean}\")\n",
    "print(f\"Standard Deviation: {std_dev}\")\n",
    "print(f\"Min: {minimum}\")\n",
    "print(f\"Max: {maximum}\")\n",
    "print(f\"Median: {median}\")\n",
    "print(f\"First Quartile (Q1): {q1}\")\n",
    "print(f\"Third Quartile (Q3): {q3}\")"
   ]
  },
  {
   "cell_type": "code",
   "execution_count": null,
   "id": "9dfce5a0-3b3e-4d3c-b92d-a5081faa95cd",
   "metadata": {},
   "outputs": [],
   "source": []
  },
  {
   "cell_type": "code",
   "execution_count": 20,
   "id": "2546b687-5b72-4d19-b09b-0b75160e313a",
   "metadata": {},
   "outputs": [
    {
     "name": "stderr",
     "output_type": "stream",
     "text": [
      "100%|███████████████████████████████████████████████████████████████████████████████████| 10/10 [00:01<00:00,  5.83it/s]"
     ]
    },
    {
     "name": "stdout",
     "output_type": "stream",
     "text": [
      "Mean: 0.7697473019361496\n",
      "Standard Deviation: 0.23152075582244203\n",
      "Min: 0.29442018270492554\n",
      "Max: 0.9792330861091614\n",
      "Median: 0.8700448870658875\n",
      "First Quartile (Q1): 0.7020687609910965\n",
      "Third Quartile (Q3): 0.9455677568912506\n"
     ]
    },
    {
     "name": "stderr",
     "output_type": "stream",
     "text": [
      "\n"
     ]
    }
   ],
   "source": [
    "text_gpt='''\n",
    "My Dearest,\n",
    "\n",
    "From the very first moment our eyes met, I felt a connection, something deep and unspoken, a language beyond words. Your eyes, beautiful and captivating, have always drawn me in, reflecting not just the world around us, but the honesty, kindness, and warmth you carry within. I could lose myself in them for hours, and in doing so, I feel the depths of your soul, the sincerity of your heart, and the strength of the values that guide you.\n",
    "\n",
    "As we’ve grown together, what has struck me more than anything is the trust we’ve built between us. It is rare, precious, and something I cherish more deeply than I can ever express. Trust, for me, is not just an agreement to believe in someone’s words or actions—it’s about knowing, without a doubt, that I can open my heart entirely to you. You’ve given me that space to be vulnerable, to be myself, and in doing so, you’ve made our bond something so much more than just love. It’s a partnership, a journey where we move forward, hand in hand, always certain of the other’s presence and unwavering loyalty.\n",
    "\n",
    "What has cemented this trust between us is our shared values. In a world that can sometimes feel chaotic and uncertain, I’ve always admired the way you stand by what is right, what is fair, and what is true. You are principled, and it’s in these principles that I find safety. You remind me, time and again, that love is not just a fleeting feeling, but a commitment to growing together, always choosing respect, honesty, and kindness over everything else. And in return, I promise to always honor that same commitment—to never take for granted the bond we’ve nurtured, and to always strive to be someone worthy of the trust you’ve placed in me.\n",
    "\n",
    "Your beautiful eyes—they tell me so much. They tell me when you’re happy, when you’re troubled, when you’re thinking deeply or simply lost in a moment of quiet joy. They are my guide to understanding the nuances of your emotions, your thoughts, and your dreams. But more than that, they remind me of the beauty of looking at life together. Through your eyes, I’ve come to see the world in new ways—full of compassion, curiosity, and grace. I love how we view things from the same lens of integrity, always striving to live a life that aligns with our hearts.\n",
    "\n",
    "It is this unspoken understanding, this silent communication between us, that makes our connection feel so effortless yet profound. I trust you, fully and without hesitation, because of the person you are—someone who values the truth, someone who believes in standing up for what is just, and someone who holds love and respect as the pillars of every interaction.\n",
    "\n",
    "You see, for me, trust is built upon the foundation of values, and our values are so beautifully intertwined. We both know that love is not always easy; it requires work, patience, and, most importantly, belief in each other. I know that in moments of doubt, in moments of challenge, you will always choose us, just as I will always choose you. I trust you not just with my heart, but with my dreams, my hopes, and even my fears. With you, I am free, because I know that the love we share is anchored in something so much greater than fleeting passion. It is rooted in trust, in our shared commitment to living lives full of meaning, purpose, and integrity.\n",
    "\n",
    "As I look into your eyes, I am reminded once more of the journey we’ve taken together and the path that still lies ahead. I am excited to walk that path with you, knowing that no matter what comes our way, our trust and our values will see us through. I believe in us, and I believe in you. Your beautiful eyes will always be my compass, guiding me home, reminding me of the love we share and the bond we’ve forged.\n",
    "\n",
    "With all my love,\n",
    "Always and forever yours.\n",
    "'''\n",
    "text_gpt=[x for x in text_gpt.split('\\n') if len(x)>2]\n",
    "text_gpt_l=[]\n",
    "for elt in tqdm(list(text_gpt)):\n",
    "\n",
    "    tokens = tokenizer.encode_plus(\n",
    "        elt,\n",
    "        add_special_tokens=True,\n",
    "        max_length=512,\n",
    "        padding='longest',\n",
    "        truncation=True,\n",
    "        return_token_type_ids=True,\n",
    "        return_tensors=\"pt\"\n",
    "    )\n",
    "    \n",
    "    _, logits = model(**tokens)\n",
    "    \n",
    "    proba = F.sigmoid(logits).squeeze(1).item()\n",
    "    \n",
    "    text_gpt_l+=[proba]\n",
    "\n",
    "\n",
    "import numpy as np\n",
    "\n",
    "# Example array of floats\n",
    "arr = np.array(text_gpt_l)\n",
    "\n",
    "# Calculating statistics\n",
    "mean = np.mean(arr)\n",
    "std_dev = np.std(arr)\n",
    "minimum = np.min(arr)\n",
    "maximum = np.max(arr)\n",
    "median = np.median(arr)\n",
    "q1 = np.percentile(arr, 25)  # First quartile (25th percentile)\n",
    "q3 = np.percentile(arr, 75)  # Third quartile (75th percentile)\n",
    "\n",
    "# Printing the statistics\n",
    "print(f\"Mean: {mean}\")\n",
    "print(f\"Standard Deviation: {std_dev}\")\n",
    "print(f\"Min: {minimum}\")\n",
    "print(f\"Max: {maximum}\")\n",
    "print(f\"Median: {median}\")\n",
    "print(f\"First Quartile (Q1): {q1}\")\n",
    "print(f\"Third Quartile (Q3): {q3}\")"
   ]
  },
  {
   "cell_type": "code",
   "execution_count": 21,
   "id": "1dafde50-4c97-46da-aa1d-4368315bd17c",
   "metadata": {},
   "outputs": [
    {
     "name": "stderr",
     "output_type": "stream",
     "text": [
      "100%|███████████████████████████████████████████████████████████████████████████████████| 32/32 [00:04<00:00,  7.99it/s]"
     ]
    },
    {
     "name": "stdout",
     "output_type": "stream",
     "text": [
      "Mean: 0.8655127715319395\n",
      "Standard Deviation: 0.19806054439834533\n",
      "Min: 0.07344722747802734\n",
      "Max: 0.9878793358802795\n",
      "Median: 0.9399980306625366\n",
      "First Quartile (Q1): 0.8975108712911606\n",
      "Third Quartile (Q3): 0.9748214781284332\n"
     ]
    },
    {
     "name": "stderr",
     "output_type": "stream",
     "text": [
      "\n"
     ]
    }
   ],
   "source": [
    "text_gpt='''\n",
    "My Dearest,\n",
    "\n",
    "From the very first moment our eyes met, I felt a connection, something deep and unspoken, a language beyond words. Your eyes, beautiful and captivating, have always drawn me in, reflecting not just the world around us, but the honesty, kindness, and warmth you carry within. I could lose myself in them for hours, and in doing so, I feel the depths of your soul, the sincerity of your heart, and the strength of the values that guide you.\n",
    "\n",
    "As we’ve grown together, what has struck me more than anything is the trust we’ve built between us. It is rare, precious, and something I cherish more deeply than I can ever express. Trust, for me, is not just an agreement to believe in someone’s words or actions—it’s about knowing, without a doubt, that I can open my heart entirely to you. You’ve given me that space to be vulnerable, to be myself, and in doing so, you’ve made our bond something so much more than just love. It’s a partnership, a journey where we move forward, hand in hand, always certain of the other’s presence and unwavering loyalty.\n",
    "\n",
    "What has cemented this trust between us is our shared values. In a world that can sometimes feel chaotic and uncertain, I’ve always admired the way you stand by what is right, what is fair, and what is true. You are principled, and it’s in these principles that I find safety. You remind me, time and again, that love is not just a fleeting feeling, but a commitment to growing together, always choosing respect, honesty, and kindness over everything else. And in return, I promise to always honor that same commitment—to never take for granted the bond we’ve nurtured, and to always strive to be someone worthy of the trust you’ve placed in me.\n",
    "\n",
    "Your beautiful eyes—they tell me so much. They tell me when you’re happy, when you’re troubled, when you’re thinking deeply or simply lost in a moment of quiet joy. They are my guide to understanding the nuances of your emotions, your thoughts, and your dreams. But more than that, they remind me of the beauty of looking at life together. Through your eyes, I’ve come to see the world in new ways—full of compassion, curiosity, and grace. I love how we view things from the same lens of integrity, always striving to live a life that aligns with our hearts.\n",
    "\n",
    "It is this unspoken understanding, this silent communication between us, that makes our connection feel so effortless yet profound. I trust you, fully and without hesitation, because of the person you are—someone who values the truth, someone who believes in standing up for what is just, and someone who holds love and respect as the pillars of every interaction.\n",
    "\n",
    "You see, for me, trust is built upon the foundation of values, and our values are so beautifully intertwined. We both know that love is not always easy; it requires work, patience, and, most importantly, belief in each other. I know that in moments of doubt, in moments of challenge, you will always choose us, just as I will always choose you. I trust you not just with my heart, but with my dreams, my hopes, and even my fears. With you, I am free, because I know that the love we share is anchored in something so much greater than fleeting passion. It is rooted in trust, in our shared commitment to living lives full of meaning, purpose, and integrity.\n",
    "\n",
    "As I look into your eyes, I am reminded once more of the journey we’ve taken together and the path that still lies ahead. I am excited to walk that path with you, knowing that no matter what comes our way, our trust and our values will see us through. I believe in us, and I believe in you. Your beautiful eyes will always be my compass, guiding me home, reminding me of the love we share and the bond we’ve forged.\n",
    "\n",
    "With all my love,\n",
    "Always and forever yours.\n",
    "'''\n",
    "text_gpt=[x for x in text_gpt.replace('\\n','').split('.') if len(x)>2]\n",
    "text_gpt_l=[]\n",
    "for elt in tqdm(list(text_gpt)):\n",
    "\n",
    "    tokens = tokenizer.encode_plus(\n",
    "        elt,\n",
    "        add_special_tokens=True,\n",
    "        max_length=512,\n",
    "        padding='longest',\n",
    "        truncation=True,\n",
    "        return_token_type_ids=True,\n",
    "        return_tensors=\"pt\"\n",
    "    )\n",
    "    \n",
    "    _, logits = model(**tokens)\n",
    "    \n",
    "    proba = F.sigmoid(logits).squeeze(1).item()\n",
    "    \n",
    "    text_gpt_l+=[proba]\n",
    "\n",
    "\n",
    "import numpy as np\n",
    "\n",
    "# Example array of floats\n",
    "arr = np.array(text_gpt_l)\n",
    "\n",
    "# Calculating statistics\n",
    "mean = np.mean(arr)\n",
    "std_dev = np.std(arr)\n",
    "minimum = np.min(arr)\n",
    "maximum = np.max(arr)\n",
    "median = np.median(arr)\n",
    "q1 = np.percentile(arr, 25)  # First quartile (25th percentile)\n",
    "q3 = np.percentile(arr, 75)  # Third quartile (75th percentile)\n",
    "\n",
    "# Printing the statistics\n",
    "print(f\"Mean: {mean}\")\n",
    "print(f\"Standard Deviation: {std_dev}\")\n",
    "print(f\"Min: {minimum}\")\n",
    "print(f\"Max: {maximum}\")\n",
    "print(f\"Median: {median}\")\n",
    "print(f\"First Quartile (Q1): {q1}\")\n",
    "print(f\"Third Quartile (Q3): {q3}\")"
   ]
  },
  {
   "cell_type": "code",
   "execution_count": 27,
   "id": "40e9b484-6c7b-4175-8de4-74a06ac1c018",
   "metadata": {},
   "outputs": [
    {
     "name": "stderr",
     "output_type": "stream",
     "text": [
      "100%|█████████████████████████████████████████████████████████████████████████████████████| 1/1 [00:00<00:00, 13.31it/s]"
     ]
    },
    {
     "name": "stdout",
     "output_type": "stream",
     "text": [
      "Mean: 0.6073448061943054\n",
      "Standard Deviation: 0.0\n",
      "Min: 0.6073448061943054\n",
      "Max: 0.6073448061943054\n",
      "Median: 0.6073448061943054\n",
      "First Quartile (Q1): 0.6073448061943054\n",
      "Third Quartile (Q3): 0.6073448061943054\n"
     ]
    },
    {
     "name": "stderr",
     "output_type": "stream",
     "text": [
      "\n"
     ]
    }
   ],
   "source": [
    "text_gpt='''\n",
    "Hello\n",
    "'''\n",
    "text_gpt=[x for x in text_gpt.split('\\n') if len(x)>2]\n",
    "text_gpt_l=[]\n",
    "list2=[]\n",
    "for elt in tqdm(list(text_gpt)):\n",
    "\n",
    "    tokens = tokenizer.encode_plus(\n",
    "        elt,\n",
    "        add_special_tokens=True,\n",
    "        max_length=512,\n",
    "        padding='longest',\n",
    "        truncation=True,\n",
    "        return_token_type_ids=True,\n",
    "        return_tensors=\"pt\"\n",
    "    )\n",
    "    \n",
    "    _, logits = model(**tokens)\n",
    "    \n",
    "    proba = F.sigmoid(logits).squeeze(1).item()\n",
    "    \n",
    "    text_gpt_l+=[proba]\n",
    "    list2+=[[elt,proba]]\n",
    "\n",
    "import numpy as np\n",
    "\n",
    "# Example array of floats\n",
    "arr = np.array(text_gpt_l)\n",
    "\n",
    "# Calculating statistics\n",
    "mean = np.mean(arr)\n",
    "std_dev = np.std(arr)\n",
    "minimum = np.min(arr)\n",
    "maximum = np.max(arr)\n",
    "median = np.median(arr)\n",
    "q1 = np.percentile(arr, 25)  # First quartile (25th percentile)\n",
    "q3 = np.percentile(arr, 75)  # Third quartile (75th percentile)\n",
    "\n",
    "# Printing the statistics\n",
    "print(f\"Mean: {mean}\")\n",
    "print(f\"Standard Deviation: {std_dev}\")\n",
    "print(f\"Min: {minimum}\")\n",
    "print(f\"Max: {maximum}\")\n",
    "print(f\"Median: {median}\")\n",
    "print(f\"First Quartile (Q1): {q1}\")\n",
    "print(f\"Third Quartile (Q3): {q3}\")\n",
    "\n"
   ]
  },
  {
   "cell_type": "code",
   "execution_count": 28,
   "id": "b239f1d3-827d-4bd7-b5a5-c6891dc19628",
   "metadata": {},
   "outputs": [
    {
     "data": {
      "text/plain": [
       "[['Hello', 0.6073448061943054]]"
      ]
     },
     "execution_count": 28,
     "metadata": {},
     "output_type": "execute_result"
    }
   ],
   "source": [
    "list2"
   ]
  },
  {
   "cell_type": "markdown",
   "id": "a6a608e5-3d72-4a04-be52-0d0477b0cee1",
   "metadata": {},
   "source": [
    "# Scores by email"
   ]
  },
  {
   "cell_type": "code",
   "execution_count": 6,
   "id": "c08f7ff2-aee8-4872-83cf-61f7169b53d9",
   "metadata": {},
   "outputs": [],
   "source": [
    "model=model.to('cuda:0')"
   ]
  },
  {
   "cell_type": "code",
   "execution_count": null,
   "id": "c0c4e1ad-b3ca-4614-ad40-545efa2c7df4",
   "metadata": {},
   "outputs": [],
   "source": []
  },
  {
   "cell_type": "code",
   "execution_count": null,
   "id": "66e22476-d063-4d56-ac71-cdae2a5be20e",
   "metadata": {},
   "outputs": [],
   "source": []
  },
  {
   "cell_type": "code",
   "execution_count": null,
   "id": "90c08bd6-54a2-4219-a7c2-fa638e0c4348",
   "metadata": {},
   "outputs": [
    {
     "name": "stderr",
     "output_type": "stream",
     "text": [
      " 22%|█████████████████                                                             | 2182/10000 [02:30<10:04, 12.94it/s]"
     ]
    }
   ],
   "source": [
    "res_before_email=[]\n",
    "\n",
    "tmp=list(df_before.values)\n",
    "for elt in tqdm(tmp):\n",
    "    date=elt[2]\n",
    "    sentence=elt[1]\n",
    "    tokens = tokenizer.encode_plus(\n",
    "        sentence,\n",
    "        add_special_tokens=True,\n",
    "        max_length=512,\n",
    "        padding='longest',\n",
    "        truncation=True,\n",
    "        return_token_type_ids=True,\n",
    "        return_tensors=\"pt\"\n",
    "    ).to('cuda:0')\n",
    "    \n",
    "    _, logits = model(**tokens)\n",
    "    \n",
    "    proba = F.sigmoid(logits).squeeze(1).item()\n",
    "    \n",
    "    res_before_email+=[[sentence,proba, date]]"
   ]
  },
  {
   "cell_type": "code",
   "execution_count": null,
   "id": "a13c4a52-a74f-46d9-a17f-7fba634abd36",
   "metadata": {},
   "outputs": [],
   "source": [
    "res_after_email=[]\n",
    "\n",
    "tmp=list(df_after.values)\n",
    "for elt in tqdm(tmp):\n",
    "    date=elt[2]\n",
    "    sentence=elt[1]\n",
    "    tokens = tokenizer.encode_plus(\n",
    "        sentence,\n",
    "        add_special_tokens=True,\n",
    "        max_length=512,\n",
    "        padding='longest',\n",
    "        truncation=True,\n",
    "        return_token_type_ids=True,\n",
    "        return_tensors=\"pt\"\n",
    "    ).to('cuda:0')\n",
    "    \n",
    "    _, logits = model(**tokens)\n",
    "    \n",
    "    proba = F.sigmoid(logits).squeeze(1).item()\n",
    "    \n",
    "    res_after_email+=[[sentence,proba, date]]"
   ]
  },
  {
   "cell_type": "code",
   "execution_count": null,
   "id": "28ebc96e-6543-4a87-a105-9bcfbd743a6d",
   "metadata": {},
   "outputs": [],
   "source": [
    "f=open('results_scores_email.json','w')\n",
    "json.dump({'res_after':res_after_email,'res_before':res_before_email},f)\n",
    "f.close()"
   ]
  },
  {
   "cell_type": "code",
   "execution_count": 27,
   "id": "a2aa48bf-5ba0-45ed-8298-47bf48bbe7bd",
   "metadata": {},
   "outputs": [
    {
     "data": {
      "text/plain": [
       "10000"
      ]
     },
     "execution_count": 27,
     "metadata": {},
     "output_type": "execute_result"
    }
   ],
   "source": [
    "len(res_before_email)"
   ]
  },
  {
   "cell_type": "code",
   "execution_count": 8,
   "id": "8ff690de-3bc8-4c75-a614-9274caa02507",
   "metadata": {},
   "outputs": [],
   "source": [
    "from tqdm import tqdm\n",
    "import json"
   ]
  },
  {
   "cell_type": "markdown",
   "id": "f017f29f-94cb-4cab-8bdf-38c0af7e5275",
   "metadata": {},
   "source": [
    "# Scores by paragraph"
   ]
  },
  {
   "cell_type": "code",
   "execution_count": null,
   "id": "30ca4563-2b86-4251-9002-ee43fdabc8d3",
   "metadata": {},
   "outputs": [
    {
     "name": "stderr",
     "output_type": "stream",
     "text": [
      "  0%|▍                                                                                                                                                                                                                                  | 20/10000 [04:14<64:12:29, 23.16s/it]"
     ]
    }
   ],
   "source": [
    "res_before_para=[]\n",
    "\n",
    "tmp=list(df_before.values)\n",
    "for elt in tqdm(tmp):\n",
    "    date=elt[2]\n",
    "    for sentence in [x for x in elt[1].split('\\n') if len(x)>3]:\n",
    "        tokens = tokenizer.encode_plus(\n",
    "            sentence,\n",
    "            add_special_tokens=True,\n",
    "            max_length=512,\n",
    "            padding='longest',\n",
    "            truncation=True,\n",
    "            return_token_type_ids=True,\n",
    "            return_tensors=\"pt\"\n",
    "        ).to('cuda:0')\n",
    "        \n",
    "        _, logits = model(**tokens)\n",
    "        \n",
    "        proba = F.sigmoid(logits).squeeze(1).item()\n",
    "        \n",
    "        res_before_para+=[[sentence,proba, date]]"
   ]
  },
  {
   "cell_type": "code",
   "execution_count": null,
   "id": "97b09c34-a437-449e-8ecc-4c5f2e220503",
   "metadata": {},
   "outputs": [],
   "source": [
    "res_after_para=[]\n",
    "\n",
    "tmp=list(df_after.values)\n",
    "for elt in tqdm(tmp):\n",
    "    date=elt[2]\n",
    "    for sentence in [x for x in elt[1].split('\\n') if len(x)>3]:\n",
    "        tokens = tokenizer.encode_plus(\n",
    "            sentence,\n",
    "            add_special_tokens=True,\n",
    "            max_length=512,\n",
    "            padding='longest',\n",
    "            truncation=True,\n",
    "            return_token_type_ids=True,\n",
    "            return_tensors=\"pt\"\n",
    "        ).to('cuda:0')\n",
    "        \n",
    "        _, logits = model(**tokens)\n",
    "        \n",
    "        proba = F.sigmoid(logits).squeeze(1).item()\n",
    "        \n",
    "        res_after_para+=[[sentence,proba, date]]"
   ]
  },
  {
   "cell_type": "code",
   "execution_count": null,
   "id": "cf569a70-9bf5-45f5-af21-19da6c7afe7e",
   "metadata": {},
   "outputs": [],
   "source": [
    "f=open('results_scores_para.json','w')\n",
    "json.dump({'res_after':res_after_para,'res_before':res_before_para},f)\n",
    "f.close()"
   ]
  },
  {
   "cell_type": "code",
   "execution_count": 29,
   "id": "e8c97e26-de04-4480-a42b-1077bd1a0a61",
   "metadata": {},
   "outputs": [
    {
     "data": {
      "text/plain": [
       "3606017"
      ]
     },
     "execution_count": 29,
     "metadata": {},
     "output_type": "execute_result"
    }
   ],
   "source": [
    "len(res_before_para)"
   ]
  },
  {
   "cell_type": "markdown",
   "id": "d72e8ec2-86d3-4ea1-8128-af744fc38970",
   "metadata": {},
   "source": [
    "# Scores by sentence\n",
    "Make sense bcause we can suppose users don't write everything with GPT"
   ]
  },
  {
   "cell_type": "code",
   "execution_count": null,
   "id": "4e4a9cde-8483-4b69-ac19-2fcc9810ac0a",
   "metadata": {},
   "outputs": [],
   "source": [
    "res_before_sent=[]\n",
    "\n",
    "tmp=list(df_before.values)\n",
    "for elt in tqdm(tmp):\n",
    "    date=elt[2]\n",
    "    for sentence in [x for x in elt[1].replace('\\n','').split('.') if len(x)>3]:\n",
    "        tokens = tokenizer.encode_plus(\n",
    "            sentence,\n",
    "            add_special_tokens=True,\n",
    "            max_length=512,\n",
    "            padding='longest',\n",
    "            truncation=True,\n",
    "            return_token_type_ids=True,\n",
    "            return_tensors=\"pt\"\n",
    "        ).to('cuda:0')\n",
    "        \n",
    "        _, logits = model(**tokens)\n",
    "        \n",
    "        proba = F.sigmoid(logits).squeeze(1).item()\n",
    "        \n",
    "        res_before_sent+=[[sentence,proba, date]]"
   ]
  },
  {
   "cell_type": "code",
   "execution_count": null,
   "id": "3fe2a53c-eb5c-4568-94b1-4b7ded75b32f",
   "metadata": {},
   "outputs": [],
   "source": [
    "res_after_sent=[]\n",
    "\n",
    "tmp=list(df_after.values)\n",
    "for elt in tqdm(tmp):\n",
    "    date=elt[2]\n",
    "    for sentence in [x for x in elt[1].replace('\\n','').split('.') if len(x)>3]:\n",
    "        tokens = tokenizer.encode_plus(\n",
    "            sentence,\n",
    "            add_special_tokens=True,\n",
    "            max_length=512,\n",
    "            padding='longest',\n",
    "            truncation=True,\n",
    "            return_token_type_ids=True,\n",
    "            return_tensors=\"pt\"\n",
    "        ).to('cuda:0')\n",
    "        \n",
    "        _, logits = model(**tokens)\n",
    "        \n",
    "        proba = F.sigmoid(logits).squeeze(1).item()\n",
    "        \n",
    "        res_after_sent+=[[sentence,proba, date]]"
   ]
  },
  {
   "cell_type": "code",
   "execution_count": null,
   "id": "6ba400e1-3d99-4563-b1da-5cdde1515a53",
   "metadata": {},
   "outputs": [],
   "source": [
    "import json\n",
    "\n",
    "f=open('results_scores_sent.json','w')\n",
    "json.dump({'res_after_sent':res_after_sent,'res_before_sent':res_before_sent},f)\n",
    "f.close()"
   ]
  },
  {
   "cell_type": "code",
   "execution_count": 53,
   "id": "496caf21-0cb0-4371-bc09-b63b2f044391",
   "metadata": {},
   "outputs": [
    {
     "data": {
      "text/plain": [
       "446914"
      ]
     },
     "execution_count": 53,
     "metadata": {},
     "output_type": "execute_result"
    }
   ],
   "source": [
    "len(res_before_sent)"
   ]
  },
  {
   "cell_type": "code",
   "execution_count": 57,
   "id": "2967cb29-f4da-45fc-a9af-3fff9008a3a4",
   "metadata": {},
   "outputs": [
    {
     "data": {
      "text/plain": [
       "'2022-09-15 14:20:16'"
      ]
     },
     "execution_count": 57,
     "metadata": {},
     "output_type": "execute_result"
    }
   ],
   "source": [
    "res_before_sent[0][2]"
   ]
  },
  {
   "cell_type": "code",
   "execution_count": 56,
   "id": "f14f32fe-2ae1-4adb-aa86-8354610dd9f5",
   "metadata": {},
   "outputs": [
    {
     "data": {
      "image/png": "[encoded data removed]",
      "text/plain": [
       "<Figure size 800x600 with 1 Axes>"
      ]
     },
     "metadata": {},
     "output_type": "display_data"
    }
   ],
   "source": [
    "import pandas as pd\n",
    "import matplotlib.pyplot as plt\n",
    "\n",
    "# Example list of lists with [score, date]\n",
    "data = [x[1:] for x in res_before_sent]\n",
    "\n",
    "# Convert to DataFrame\n",
    "df = pd.DataFrame(data, columns=['score', 'date'])\n",
    "\n",
    "# Convert the 'date' column to datetime\n",
    "df['date'] = pd.to_datetime(df['date'])\n",
    "\n",
    "# Extract the year from the date\n",
    "df['year'] = df['date'].dt.year\n",
    "\n",
    "# Group by the year and calculate the average score\n",
    "df_avg = df.groupby('year')['score'].mean().reset_index()\n",
    "\n",
    "# Plot the average score by year\n",
    "plt.figure(figsize=(8, 6))\n",
    "plt.plot(df_avg['year'], df_avg['score'], marker='o')\n",
    "plt.title('Average Score by Year')\n",
    "plt.xlabel('Year')\n",
    "plt.ylabel('Average Score')\n",
    "plt.grid(True)\n",
    "plt.show()\n"
   ]
  },
  {
   "cell_type": "code",
   "execution_count": 60,
   "id": "016042b1-fb9e-4f2d-af4a-97cb248cf0ad",
   "metadata": {},
   "outputs": [
    {
     "data": {
      "text/plain": [
       "[2022]"
      ]
     },
     "execution_count": 60,
     "metadata": {},
     "output_type": "execute_result"
    }
   ],
   "source": [
    "list(set(df['year']))"
   ]
  },
  {
   "cell_type": "code",
   "execution_count": 61,
   "id": "b97e3c49-02af-4ad7-9c44-7a715ddf297a",
   "metadata": {},
   "outputs": [
    {
     "data": {
      "image/png": "[encoded data removed]",
      "text/plain": [
       "<Figure size 800x600 with 1 Axes>"
      ]
     },
     "metadata": {},
     "output_type": "display_data"
    }
   ],
   "source": [
    "import pandas as pd\n",
    "import matplotlib.pyplot as plt\n",
    "\n",
    "# Example list of lists with [score, date]\n",
    "data = [x[1:] for x in res_after_sent]\n",
    "\n",
    "# Convert to DataFrame\n",
    "df = pd.DataFrame(data, columns=['score', 'date'])\n",
    "\n",
    "# Convert the 'date' column to datetime\n",
    "df['date'] = pd.to_datetime(df['date'])\n",
    "\n",
    "# Extract the year from the date\n",
    "df['year'] = df['date'].dt.year\n",
    "\n",
    "# Group by the year and calculate the average score\n",
    "df_avg = df.groupby('year')['score'].mean().reset_index()\n",
    "\n",
    "# Plot the average score by year\n",
    "plt.figure(figsize=(8, 6))\n",
    "plt.plot(df_avg['year'], df_avg['score'], marker='o')\n",
    "plt.title('Average Score by Year')\n",
    "plt.xlabel('Year')\n",
    "plt.ylabel('Average Score')\n",
    "plt.grid(True)\n",
    "plt.show()"
   ]
  },
  {
   "cell_type": "code",
   "execution_count": 50,
   "id": "4c3191c7-69ca-4cf4-b2d4-41d8a8c53036",
   "metadata": {},
   "outputs": [
    {
     "data": {
      "text/plain": [
       "2"
      ]
     },
     "execution_count": 50,
     "metadata": {},
     "output_type": "execute_result"
    }
   ],
   "source": [
    "1+1"
   ]
  },
  {
   "cell_type": "code",
   "execution_count": 62,
   "id": "456ea004-d046-43ee-b415-8623a6149d13",
   "metadata": {},
   "outputs": [
    {
     "data": {
      "image/png": "[encoded data removed]",
      "text/plain": [
       "<Figure size 1000x600 with 1 Axes>"
      ]
     },
     "metadata": {},
     "output_type": "display_data"
    }
   ],
   "source": []
  },
  {
   "cell_type": "code",
   "execution_count": 70,
   "id": "85ed1b6e-0a34-44fb-ac9e-fd5d26730375",
   "metadata": {},
   "outputs": [
    {
     "data": {
      "image/png": "[encoded data removed]",
      "text/plain": [
       "<Figure size 1000x600 with 1 Axes>"
      ]
     },
     "metadata": {},
     "output_type": "display_data"
    }
   ],
   "source": [
    "\n",
    "data =[x[1:] for x in res_before_sent]+ [x[1:] for x in res_after_sent]\n",
    "# Convert to DataFrame\n",
    "df = pd.DataFrame(data, columns=['score', 'date'])\n",
    "\n",
    "# Convert the 'date' column to datetime\n",
    "df['date'] = pd.to_datetime(df['date'])\n",
    "\n",
    "# Create a new column with year-month (e.g., '2023-02')\n",
    "df['year_month'] = df['date'].dt.to_period('M')\n",
    "\n",
    "# Group by the year-month and calculate the average score\n",
    "df_avg_month = df.groupby('year_month')['score'].mean().reset_index()\n",
    "\n",
    "# Convert 'year_month' back to datetime for plotting purposes\n",
    "df_avg_month['year_month'] = df_avg_month['year_month'].dt.to_timestamp()\n",
    "\n",
    "# Plot the average score by year-month\n",
    "plt.figure(figsize=(10, 6))\n",
    "plt.plot(df_avg_month['year_month'], df_avg_month['score'], marker='o')\n",
    "plt.title('Average Score by Month')\n",
    "plt.xlabel('Month')\n",
    "plt.ylabel('Average Score')\n",
    "plt.xticks(rotation=45)\n",
    "plt.grid(True)\n",
    "# plt.ylim(0.54, 0.555)\n",
    "plt.show()"
   ]
  },
  {
   "cell_type": "code",
   "execution_count": null,
   "id": "e7f67a87-d09d-4a47-afe0-e602cc6b0697",
   "metadata": {},
   "outputs": [],
   "source": []
  },
  {
   "cell_type": "code",
   "execution_count": null,
   "id": "10425d23-db27-4ffb-86c3-48d0dd8632c2",
   "metadata": {},
   "outputs": [],
   "source": []
  },
  {
   "cell_type": "code",
   "execution_count": 67,
   "id": "311745fc-5e43-4ecb-bf3a-2347392f6080",
   "metadata": {},
   "outputs": [
    {
     "name": "stderr",
     "output_type": "stream",
     "text": [
      "/tmp/ipykernel_439518/180751530.py:15: DeprecationWarning: DataFrameGroupBy.apply operated on the grouping columns. This behavior is deprecated, and in a future version of pandas the grouping columns will be excluded from the operation. Either pass `include_groups=False` to exclude the groupings or explicitly select the grouping columns after groupby to silence this warning.\n",
      "  df_above_threshold = df.groupby('year_month').apply(lambda x: (x['score'] > threshold).mean() * 100).reset_index(name='percentage_above_threshold')\n"
     ]
    },
    {
     "data": {
      "image/png": "[encoded data removed]",
      "text/plain": [
       "<Figure size 1000x600 with 1 Axes>"
      ]
     },
     "metadata": {},
     "output_type": "display_data"
    }
   ],
   "source": [
    "\n",
    "data = [x[1:] for x in res_before_sent]+[x[1:] for x in res_after_sent]\n",
    "# Convert to DataFrame\n",
    "threshold = 0.85\n",
    "\n",
    "# Convert to DataFrame\n",
    "df = pd.DataFrame(data, columns=['score', 'date'])\n",
    "\n",
    "# Convert the 'date' column to datetime\n",
    "df['date'] = pd.to_datetime(df['date'])\n",
    "\n",
    "# Create a new column with year-month (e.g., '2023-02')\n",
    "df['year_month'] = df['date'].dt.to_period('M')\n",
    "\n",
    "# Group by year-month and calculate the percentage of values above the threshold\n",
    "df_above_threshold = df.groupby('year_month').apply(lambda x: (x['score'] > threshold).mean() * 100).reset_index(name='percentage_above_threshold')\n",
    "\n",
    "# Convert 'year_month' back to datetime for plotting purposes\n",
    "df_above_threshold['year_month'] = df_above_threshold['year_month'].dt.to_timestamp()\n",
    "\n",
    "# Plot the histogram (as a bar plot)\n",
    "plt.figure(figsize=(10, 6))\n",
    "plt.bar(df_above_threshold['year_month'], df_above_threshold['percentage_above_threshold'], width=20, color='skyblue')\n",
    "plt.title(f'Percentage of Values Above {threshold} by Month')\n",
    "plt.xlabel('Month')\n",
    "plt.ylabel('Percentage of Values Above Threshold')\n",
    "plt.xticks(rotation=45)\n",
    "plt.grid(True)\n",
    "plt.show()"
   ]
  },
  {
   "cell_type": "code",
   "execution_count": null,
   "id": "a786e3e4-259a-42fc-b450-cbcc6393c191",
   "metadata": {},
   "outputs": [],
   "source": []
  }
 ],
 "metadata": {
  "kernelspec": {
   "display_name": "ForLLMLora August",
   "language": "python",
   "name": "forllmlora"
  },
  "language_info": {
   "codemirror_mode": {
    "name": "ipython",
    "version": 3
   },
   "file_extension": ".py",
   "mimetype": "text/x-python",
   "name": "python",
   "nbconvert_exporter": "python",
   "pygments_lexer": "ipython3",
   "version": "3.10.14"
  }
 },
 "nbformat": 4,
 "nbformat_minor": 5
}
